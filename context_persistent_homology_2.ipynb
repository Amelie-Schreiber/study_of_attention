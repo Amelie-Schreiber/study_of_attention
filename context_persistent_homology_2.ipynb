{
 "cells": [
  {
   "attachments": {},
   "cell_type": "markdown",
   "metadata": {},
   "source": [
    "# Topological Collocation and Keyword-Keyphrase Extraction"
   ]
  },
  {
   "cell_type": "code",
   "execution_count": 1,
   "metadata": {},
   "outputs": [
    {
     "name": "stdout",
     "output_type": "stream",
     "text": [
      "Note: you may need to restart the kernel to use updated packages.\n"
     ]
    }
   ],
   "source": [
    "pip install transformers torch numpy gudhi -q"
   ]
  },
  {
   "attachments": {},
   "cell_type": "markdown",
   "metadata": {},
   "source": [
    "The context vector is a critical part of the multihead attention mechanism in transformers. As indicated by the provided formula:\n",
    "\n",
    "$$\\mathbf{c}_{i}^{l,h} = \\sum_{j=1}^{n} a_{i, j}^{l,h} \\mathbf{v}_{j}^{l,h}$$\n",
    "\n",
    "the context vector $\\mathbf{c}_{i, l}^h$ for the $h^{th}$ head in layer $l$ is computed as a weighted sum of the value vectors $\\mathbf{v}_{j}^{l,h}$, where the weights are the attention scores $a_{ij}^{l,h}$. Here, $n$ is the number of value vectors, corresponding to the number of input tokens for the attention mechanism.\n",
    "\n",
    "The attention scores $a_{ij}^{l,h}$ for attention head $k$ in layer $l$, themselves are computed using the query and key vectors. In the scaled dot-product attention mechanism typically used in transformers, the attention score between the $i^{th}$ query $\\mathbf{q}_i^{l,h}$ and the $j^{th}$ key $\\mathbf{k}_j^{l,h}$ is computed as:\n",
    "\n",
    "$$a_{ij}^{l,h} = \\frac{\\exp(\\mathbf{q}_i^{l,h} \\cdot \\mathbf{k}_j^{l,h} / \\sqrt{d})}{\\sum_{m=1}^{n} \\exp(\\mathbf{q}_i^{l,h} \\cdot \\mathbf{k}_m^{l,h} / \\sqrt{d})}$$\n",
    "\n",
    "where $d$ is the dimensionality of the queries and keys, and $\\cdot$ denotes the dot product. The division by $\\sqrt{d}$ is a scaling factor that is used to prevent the dot product from growing too large in magnitude, which could lead to vanishing gradients during training. The softmax function is applied to the raw attention scores to ensure that they sum up to $1$, allowing them to be interpreted as probabilities or relative importances.\n",
    "\n",
    "The queries, keys, and values are themselves computed by applying learned linear transformations to the input embeddings. If $\\mathbf{x}_i$ denotes the input embedding for the $i^{th}$ token, then we have:\n",
    "\n",
    "$$\\mathbf{q}_i^{l,h} = W_Q^{l, h} \\mathbf{x}_i$$\n",
    "$$\\mathbf{k}_i^{l,h} = W_K^{l, h} \\mathbf{x}_i$$\n",
    "$$\\mathbf{v}_i^{l,h} = W_V^{l, h} \\mathbf{x}_i$$\n",
    "\n",
    "where $W_Q^{l,h}$, $W_K^{l,h}$, and $W_V^{l,h}$ are the weight matrices for the queries, keys, and values, respectively, for the $k^{th}$ head in the $l^{th}$ layer.\n",
    "\n",
    "The context vectors $\\mathbf{c}_{i, l}^h$ provide a summary of the input tokens, weighted by their relevance to the query. They can be thought of as a form of \"contextualized\" embedding, where the context is determined by the other tokens in the input sequence and their interaction weight given by the attention matrix $a_{ij}^{l,h}$ for head $h \\in \\{1, 2, ..., \\mathcal{H}\\}$. The multihead attention mechanism allows the model to capture different types of relevance or \"attention\" by using multiple heads, each with its own learned linear transformations.\n",
    "\n",
    "In the multihead attention mechanism, the attention operation is not performed just once, but multiple times in parallel. The queries, keys, and values are transformed with different learned linear projections to $h$ different sets of queries, keys, and values, where $h$ is the number of heads. Then the attention mechanism is applied to each of these sets, yielding $h$ output vectors, which are then concatenated and linearly transformed to result in the final output.\n",
    "\n",
    "Let $W_Q^{l,h}$, $W_K^{l,h}$, and $W_V^{l,h}$ denote the weight matrices for the $h^{th}$ head for the queries, keys, and values, respectively, in the $l^{th}$ layer, and let $W_O^{l}$ denote the output weight matrix for layer $l$. Then the output of the multihead attention mechanism for layer $l$ is computed as:\n",
    "\n",
    "$$\\mathbf{c}_i^l = W_O^{l} [\\mathbf{c}_{i}^{l,h}; \\mathbf{c}_{i}^{l,h}; \\ldots; \\mathbf{c}_{i}^{l, \\mathcal{H}}]$$\n",
    "\n",
    "where $\\mathbf{c}_{i}^{l,h}$ is the output of the attention mechanism for the $h^{th}$ head in layer $l$, for token $x_i$, computed as:\n",
    "\n",
    "$$\\mathbf{c}_{i}^{l,h} = \\sum_{j=1}^{n} a_{ij}^{l,h} \\mathbf{v}_{j}^{l,h}$$"
   ]
  },
  {
   "attachments": {},
   "cell_type": "markdown",
   "metadata": {},
   "source": [
    "## GPT-2 Attention Matrix"
   ]
  },
  {
   "cell_type": "code",
   "execution_count": 2,
   "metadata": {},
   "outputs": [],
   "source": [
    "from transformers import GPT2Model, GPT2Tokenizer\n",
    "\n",
    "def compute_attention_matrix_gpt_2(sentence, layer, head):\n",
    "    # Load pretrained model/tokenizer\n",
    "    model = GPT2Model.from_pretrained('gpt2', output_attentions=True)\n",
    "    tokenizer = GPT2Tokenizer.from_pretrained('gpt2')\n",
    "\n",
    "    # Tokenize input sentence\n",
    "    inputs = tokenizer(sentence, return_tensors='pt')\n",
    "\n",
    "    # Pass through model\n",
    "    outputs = model(**inputs)\n",
    "\n",
    "    # Get the attention weights\n",
    "    attentions = outputs.attentions\n",
    "\n",
    "    # Extract the attention weights for the specified layer and head\n",
    "    attention_matrix = attentions[layer][0, head].detach().numpy()\n",
    "\n",
    "    return attention_matrix\n"
   ]
  },
  {
   "cell_type": "code",
   "execution_count": 3,
   "metadata": {},
   "outputs": [
    {
     "name": "stdout",
     "output_type": "stream",
     "text": [
      "(4, 4)\n",
      "[[1.         0.         0.         0.        ]\n",
      " [0.9799156  0.02008435 0.         0.        ]\n",
      " [0.81174487 0.13985004 0.04840514 0.        ]\n",
      " [0.33955273 0.15688916 0.21757792 0.2859802 ]]\n"
     ]
    }
   ],
   "source": [
    "sentence = \"Deep learning is fascinating\"\n",
    "layer = 2\n",
    "head = 3\n",
    "\n",
    "gpt_2_attention_matrix = compute_attention_matrix_gpt_2(sentence, layer, head)\n",
    "print(gpt_2_attention_matrix.shape)\n",
    "print(gpt_2_attention_matrix)"
   ]
  },
  {
   "attachments": {},
   "cell_type": "markdown",
   "metadata": {},
   "source": [
    "## BERT Attention Matrix"
   ]
  },
  {
   "cell_type": "code",
   "execution_count": 4,
   "metadata": {},
   "outputs": [],
   "source": [
    "from transformers import BertModel, BertTokenizer\n",
    "\n",
    "def compute_attention_matrix_bert(sentence, layer, head):\n",
    "    # Load pretrained model/tokenizer\n",
    "    model = BertModel.from_pretrained('bert-base-uncased', output_attentions=True)\n",
    "    tokenizer = BertTokenizer.from_pretrained('bert-base-uncased')\n",
    "\n",
    "    # Tokenize input sentence\n",
    "    inputs = tokenizer(sentence, return_tensors='pt')\n",
    "\n",
    "    # Pass through model\n",
    "    outputs = model(**inputs)\n",
    "\n",
    "    # Get the attention weights\n",
    "    attentions = outputs.attentions\n",
    "\n",
    "    # Extract the attention weights for the specified layer and head\n",
    "    attention_matrix = attentions[layer][0, head].detach().numpy()\n",
    "\n",
    "    return attention_matrix\n"
   ]
  },
  {
   "cell_type": "code",
   "execution_count": 5,
   "metadata": {},
   "outputs": [
    {
     "name": "stderr",
     "output_type": "stream",
     "text": [
      "Some weights of the model checkpoint at bert-base-uncased were not used when initializing BertModel: ['cls.seq_relationship.weight', 'cls.predictions.transform.dense.weight', 'cls.predictions.transform.LayerNorm.weight', 'cls.seq_relationship.bias', 'cls.predictions.transform.dense.bias', 'cls.predictions.bias', 'cls.predictions.transform.LayerNorm.bias']\n",
      "- This IS expected if you are initializing BertModel from the checkpoint of a model trained on another task or with another architecture (e.g. initializing a BertForSequenceClassification model from a BertForPreTraining model).\n",
      "- This IS NOT expected if you are initializing BertModel from the checkpoint of a model that you expect to be exactly identical (initializing a BertForSequenceClassification model from a BertForSequenceClassification model).\n"
     ]
    },
    {
     "name": "stdout",
     "output_type": "stream",
     "text": [
      "(6, 6)\n",
      "[[0.65833837 0.02821147 0.05961464 0.06537832 0.06500569 0.12345145]\n",
      " [0.7571759  0.00225254 0.01708878 0.0295937  0.02422678 0.1696624 ]\n",
      " [0.5111288  0.01439373 0.00574702 0.07166345 0.06277563 0.33429137]\n",
      " [0.42424822 0.03885158 0.04304642 0.08848479 0.0646913  0.3406777 ]\n",
      " [0.71238786 0.01339824 0.05244174 0.03502652 0.01661684 0.17012876]\n",
      " [0.7925911  0.01647069 0.035555   0.02690707 0.03360174 0.09487453]]\n"
     ]
    }
   ],
   "source": [
    "sentence = \"Deep learning is fascinating\"\n",
    "layer = 2\n",
    "head = 3\n",
    "\n",
    "bert_attention_matrix = compute_attention_matrix_bert(sentence, layer, head)\n",
    "print(bert_attention_matrix.shape)\n",
    "print(bert_attention_matrix)"
   ]
  },
  {
   "attachments": {},
   "cell_type": "markdown",
   "metadata": {},
   "source": [
    "Each transformer layer comprises a multihead self-attention mechanism, followed by layer normalization, a position-wise feed-forward network, and another layer normalization. Let's denote the $l^{th}$ transformer layer in the model, where $l$ ranges from 1 to $L$ (with $L$ being the total number of layers). \n",
    "\n",
    "1. **Multihead Self-Attention Mechanism**: The multihead self-attention mechanism in the $l^{th}$ layer operates on the input embeddings $\\mathbf{x}_i^l$, transforming them into queries $\\mathbf{q}_i^{l,h}$, keys $\\mathbf{k}_i^{l,h}$, and values $\\mathbf{v}_i^{l,h}$ for each head $h$ as before. Then the context vectors are computed, and concatenated as before, and the weight matrix $W_O^l$ is applied to get $\\mathbf{c}_i^l$\n",
    "\n",
    "2. **Layer Normalization**: Layer normalization stabilizes the learning process and reduces internal covariate shift by normalizing the multihead self-attention output across the hidden dimension. For the $l^{th}$ layer, this is computed as:\n",
    "\n",
    "    $$\\mathbf{c'}_i^l = \\frac{\\mathbf{c}_i^l - \\mu^{l}}{\\sigma^{l}}$$\n",
    "\n",
    "   where $\\mu^{l}$ and $\\sigma^{l}$ are the mean and standard deviation of the layer outputs, computed as:\n",
    "\n",
    "    $$\\mu^{l} = \\frac{1}{H}\\sum^{H}_{i=1}c_{i}^l$$\n",
    "    $$\\sigma^{l} = \\sqrt{\\frac{1}{H}\\sum^{H}_{i=1}\\left(c_{i}^l-\\mu^{l}\\right)^{2}}$$\n",
    "\n",
    "3. **Position-Wise Feed-Forward Network (FFN)**: The output of the layer normalization is then passed through a position-wise feed-forward network (FFN). The\n",
    "\n",
    "The output of the layer normalization is then passed through a position-wise feed-forward network (FFN). The FFN consists of two linear transformations with a ReLU activation in between. For each position $i$, the FFN is applied to $\\mathbf{c}_i'^l$ independently. Let's denote the weight matrices and bias vectors of the two linear transformations as $W_1^l$, $b_1^l$, $W_2^l$, and $b_2^l$, respectively. Then the output of the FFN is computed as:\n",
    "\n",
    "$$\\mathbf{d}_i^l = W_2^l \\mathbf{max}(0, W_1^l \\mathbf{c'}_i^l + b_1^l) + b_2^l$$\n",
    "\n",
    "where $\\max(0, x)$ denotes the ReLU activation function.\n",
    "\n",
    "4. **Second Layer Normalization**: Finally, the output of the FFN goes through another layer normalization step to compute the final output of the transformer layer:\n",
    "\n",
    "$$\\mathbf{o}_i^l = \\frac{\\mathbf{d}_i^l - \\mu^l}{\\sigma^l}$$\n",
    "\n",
    "where again, $\\mu^l$ and $\\sigma^l$ are the mean and standard deviation of the layer outputs, computed similarly as before but now with $\\mathbf{d}_i^l$ instead of $\\mathbf{c}_i^l$.\n",
    "\n",
    "In the following code, the `outputs.hidden_states[layer]` attribute in the context of transformer models typically refers to the matrix $O_l = [\\mathbf{o}_1^l; \\mathbf{o}_2^l; \\ldots; \\mathbf{o}_n^l]$, where $n$ is the number of input tokens, and $L$ is the total number of layers in the transformer model."
   ]
  },
  {
   "cell_type": "code",
   "execution_count": 6,
   "metadata": {},
   "outputs": [
    {
     "name": "stderr",
     "output_type": "stream",
     "text": [
      "Some weights of the model checkpoint at bert-base-uncased were not used when initializing BertModel: ['cls.seq_relationship.weight', 'cls.predictions.transform.dense.weight', 'cls.predictions.transform.LayerNorm.weight', 'cls.seq_relationship.bias', 'cls.predictions.transform.dense.bias', 'cls.predictions.bias', 'cls.predictions.transform.LayerNorm.bias']\n",
      "- This IS expected if you are initializing BertModel from the checkpoint of a model trained on another task or with another architecture (e.g. initializing a BertForSequenceClassification model from a BertForPreTraining model).\n",
      "- This IS NOT expected if you are initializing BertModel from the checkpoint of a model that you expect to be exactly identical (initializing a BertForSequenceClassification model from a BertForSequenceClassification model).\n"
     ]
    },
    {
     "name": "stdout",
     "output_type": "stream",
     "text": [
      "torch.Size([1, 6, 768])\n",
      "tensor([[[ 0.1686, -0.2858, -0.3261,  ..., -0.0276,  0.0383,  0.1640],\n",
      "         [ 0.0594,  0.6532, -0.1400,  ..., -0.8445,  0.6568, -0.2210],\n",
      "         [-1.5690, -0.1996,  0.0325,  ...,  0.4756,  0.2562, -0.7868],\n",
      "         [-0.4970, -0.2288, -0.4677,  ...,  0.4528,  0.2378,  0.5511],\n",
      "         [ 0.8615,  0.3349,  0.3782,  ...,  0.0857, -0.1091,  0.5007],\n",
      "         [-0.3251, -0.3188, -0.1163,  ..., -0.3960,  0.4112, -0.0776]]],\n",
      "       grad_fn=<NativeLayerNormBackward0>)\n"
     ]
    }
   ],
   "source": [
    "from transformers import BertModel, BertTokenizer\n",
    "import torch\n",
    "\n",
    "tokenizer = BertTokenizer.from_pretrained('bert-base-uncased')\n",
    "model = BertModel.from_pretrained('bert-base-uncased')\n",
    "\n",
    "inputs = tokenizer(\"Deep learning is fascinating\", return_tensors=\"pt\")\n",
    "\n",
    "# Specify `output_hidden_states=True` when calling the model\n",
    "outputs = model(**inputs, output_hidden_states=True)\n",
    "\n",
    "# Now you can access the hidden states at a specific layer\n",
    "layer = 0\n",
    "hidden_states = outputs.hidden_states[layer]\n",
    "print(hidden_states.shape)\n",
    "print(hidden_states)\n"
   ]
  },
  {
   "attachments": {},
   "cell_type": "markdown",
   "metadata": {},
   "source": [
    "Let's reintroduce the BERT model in slightly different notation now, using matrices to collect all of the queries, keys, and values. \n",
    "\n",
    "**1. Word Embeddings and Positional Encoding**\n",
    "\n",
    "Given a sequence of input tokens, $X = \\{x_1, x_2, ..., x_n\\}$, each token is converted into a word embedding vector using an embedding lookup table $E$. Hence, the word embeddings $Z$ are calculated as:\n",
    "\n",
    "$$ Z = \\{E(x_1), E(x_2), ..., E(x_n)\\} $$\n",
    "\n",
    "In BERT, the word embeddings are then summed with a positional encoding $P$ to retain the positional information, giving us:\n",
    "\n",
    "$$ Z' = Z + P $$\n",
    "\n",
    "**2. Transformer Encoder Layers**\n",
    "\n",
    "A Transformer encoder consists of a stack of identical layers. Each layer has two sub-layers: a multi-head self-attention mechanism, and a position-wise fully connected feed-forward network. For the input to the $l^{th}$ layer, denoted $H^{(l)}$, we have $H^{(1)} = Z'$ for the first layer.\n",
    "\n",
    "**2.1. Multi-Head Self-Attention**\n",
    "\n",
    "The multi-head self-attention mechanism computes a weighted sum of the input vectors, where the weights are determined by the attention scores between the token and all tokens in the sequence.\n",
    "\n",
    "In the self-attention mechanism, three sets of learned linear transformations are applied to the input vectors $H^{(l)}$ to compute the query $Q^{(l, h)}$, key $K^{(l, h)}$, and value $V^{(l, h)}$ vectors for each head $h$ in the layer $l$:\n",
    "\n",
    "$$Q^{(l, h)} = H^{(l)}W_{Q}^{l, h}$$\n",
    "$$K^{(l, h)} = H^{(l)}W_{K}^{l, h}$$\n",
    "$$V^{(l, h)} = H^{(l)}W_{V}^{l, h}$$\n",
    "\n",
    "where $W_{q}^{(l, h)}$, $W_{k}^{(l, h)}$, and $W_{v}^{(l, h)}$ are the weight matrices for the query, key, and value transformations at the $l^{th}$ layer for the $h^{th}$ head.\n",
    "\n",
    "Then, the attention scores $S^{(l, h)}$ are computed by taking the dot product of the query and key vectors, followed by a softmax:\n",
    "\n",
    "$$ S^{(l, h)} = \\text{softmax}\\left(\\frac{Q^{(l, h)}{K^{(l, h)}}^T}{\\sqrt{d_k}}\\right) $$\n",
    "\n",
    "where $d_k$ is the dimension of the key vectors.\n",
    "\n",
    "The output of the self-attention mechanism for each head is a weighted sum of the value vectors, using the attention scores as weights:\n",
    "\n",
    "$$ O^{(l, h)} = S^{(l, h)}V^{(l, h)} $$\n",
    "\n",
    "The output vectors of all heads are then concatenated and linearly transformed to result in the final output of the multi-head self-attention mechanism:\n",
    "\n",
    "$$ A^{(l)} = [O^{(l, 1)}, ..., O^{(l, \\mathcal{H})}]W_{O}^{(l)} $$\n",
    "\n",
    "where $\\mathcal{H}$ is the number of heads, and $W_{o}^{(l)}$ is a learned weight matrix.\n",
    "\n",
    "**2.2. Position-Wise Feed-Forward Networks**\n",
    "\n",
    "The output of the multi-head self-attention mechanism is then passed through a position-wise feed-forward network (FFN).\n",
    "\n",
    "Apologies for the abrupt cut-off. Let's continue with the explanation.\n",
    "\n",
    "This network is applied independently to each position:\n",
    "\n",
    "$$ F^{(l)} = \\text{FFN}(A^{(l)}) $$\n",
    "\n",
    "where FFN represents the feed-forward network.\n",
    "\n",
    "**2.3. Residual Connections and Layer Normalization**\n",
    "\n",
    "In the case of a Transformer encoder layer, there are two sub-layers:\n",
    "\n",
    "1. The multi-head self-attention mechanism\n",
    "2. The position-wise feed-forward network\n",
    "\n",
    "Each of these sub-layers uses a shortcut connection (residual connection), and the output of each is normalized separately. So, what the notation is trying to express is that the output of the $l^{th}$ layer before and after each sub-layer is normalized separately.\n",
    "\n",
    "Let's denote the output of the self-attention mechanism as $A^{(l)}$ and the output of the feed-forward network as $F^{(l)}$. Now, let's denote the input to the $l^{th}$ layer as $H^{(l)}$, and the output of the $l^{th}$ layer as $H^{(l+1)}$. \n",
    "\n",
    "The processing of the $l^{th}$ layer can then be expressed as follows:\n",
    "\n",
    "1. Multi-Head Self-Attention:\n",
    "\n",
    "    $$ A^{(l)} = \\text{MultiHeadSelfAttention}(H^{(l)}) $$\n",
    "    $$ H_{\\text{intermediate}}^{(l+1)} = \\text{LayerNorm}(H^{(l)} + A^{(l)}) $$\n",
    "\n",
    "    Here, $H_{\\text{intermediate}}^{(l+1)}$ is the output after the self-attention mechanism, including the residual connection and layer normalization.\n",
    "\n",
    "2. Position-Wise Feed-Forward Networks:\n",
    "\n",
    "    $$ F^{(l)} = \\text{FFN}(H_{\\text{intermediate}}^{(l+1)}) $$\n",
    "    $$ H^{(l+1)} = \\text{LayerNorm}(H_{\\text{intermediate}}^{(l+1)} + F^{(l)}) $$\n",
    "\n",
    "    Here, the FFN is applied to $H_{\\text{intermediate}}^{(l+1)}$, not $H^{(l)}$.\n",
    "\n",
    "So, $H^{(l+1)}$ is the result of the entire $l^{th}$ layer, which includes both the self-attention and feed-forward sub-layers. The residual connections and layer normalization operations are applied separately after each sub-layer. There are two steps in the process, and layer normalization is applied after each step.\n",
    "\n",
    "**3. Output**\n",
    "\n",
    "The output of the final layer $L$ of the Transformer encoder is the sequence of vectors $H^{(L+1)}$, which serves as the contextualized representation of the input tokens. This corresponds to `outputs.last_hidden_state` in the code.\n",
    "\n",
    "If we denote `outputs.last_hidden_state` as $H$, then $H[0]$ corresponds to the contextualized representation of the first token in the input sequence.\n",
    "\n",
    "Please note that the above explanation is a simplification of the actual computations involved in the BERT model. BERT also incorporates several other features, such as token type embeddings for distinguishing different sentences in the same input, and a special [CLS] token at the beginning of the input for classification tasks. \n",
    "\n",
    "The next block of code computes all of the context vectors for all of the `layer`s and `head`s at once, but we just want to look at, \n",
    "\n",
    "$$ O^{(l, h)} = S^{(l, h)}V^{(l, h)}. $$"
   ]
  },
  {
   "cell_type": "code",
   "execution_count": 7,
   "metadata": {},
   "outputs": [],
   "source": [
    "import torch\n",
    "from transformers import BertTokenizer, BertModel\n",
    "\n",
    "def compute_output_1(sentence, layer, head):\n",
    "    # Load pre-trained model\n",
    "    model = BertModel.from_pretrained('bert-base-uncased', output_attentions=True)\n",
    "    tokenizer = BertTokenizer.from_pretrained('bert-base-uncased')\n",
    "\n",
    "    # Tokenize input and convert to tensor\n",
    "    inputs = tokenizer(sentence, return_tensors=\"pt\")\n",
    "\n",
    "    # Forward pass\n",
    "    # Specify `output_hidden_states=True` when calling the model\n",
    "    outputs = model(**inputs, output_hidden_states=True)\n",
    "\n",
    "    # Obtain the attention weights\n",
    "    attentions = outputs.attentions\n",
    "\n",
    "    # Obtain the attention weights for the specific layer and head\n",
    "    S = attentions[layer][0, head]\n",
    "\n",
    "    # Obtain the value vectors\n",
    "    model.eval()\n",
    "    with torch.no_grad():\n",
    "        hidden_states = outputs.hidden_states[layer]\n",
    "        W_v = model.encoder.layer[layer].attention.self.value.weight\n",
    "        V = torch.matmul(hidden_states, W_v.t())\n",
    "\n",
    "    # Compute the output O\n",
    "    O = torch.matmul(S, V)\n",
    "\n",
    "    return O"
   ]
  },
  {
   "cell_type": "code",
   "execution_count": 8,
   "metadata": {},
   "outputs": [
    {
     "name": "stderr",
     "output_type": "stream",
     "text": [
      "Some weights of the model checkpoint at bert-base-uncased were not used when initializing BertModel: ['cls.seq_relationship.weight', 'cls.predictions.transform.dense.weight', 'cls.predictions.transform.LayerNorm.weight', 'cls.seq_relationship.bias', 'cls.predictions.transform.dense.bias', 'cls.predictions.bias', 'cls.predictions.transform.LayerNorm.bias']\n",
      "- This IS expected if you are initializing BertModel from the checkpoint of a model trained on another task or with another architecture (e.g. initializing a BertForSequenceClassification model from a BertForPreTraining model).\n",
      "- This IS NOT expected if you are initializing BertModel from the checkpoint of a model that you expect to be exactly identical (initializing a BertForSequenceClassification model from a BertForSequenceClassification model).\n"
     ]
    },
    {
     "name": "stdout",
     "output_type": "stream",
     "text": [
      "torch.Size([1, 6, 768])\n",
      "tensor([[[ 0.6161,  0.0203,  0.0927,  ..., -0.0607,  0.2400, -0.0631],\n",
      "         [ 0.5375,  0.0317,  0.0341,  ..., -0.1485,  0.2741, -0.1216],\n",
      "         [ 0.4041,  0.0027,  0.0068,  ..., -0.2113,  0.2521, -0.1607],\n",
      "         [ 0.5031,  0.0235, -0.0346,  ..., -0.2013,  0.2198, -0.1369],\n",
      "         [ 0.2977,  0.0328,  0.0355,  ..., -0.2225,  0.2670, -0.1371],\n",
      "         [ 0.6082,  0.0109,  0.0203,  ..., -0.1514,  0.2542, -0.1082]]],\n",
      "       grad_fn=<CloneBackward0>)\n"
     ]
    }
   ],
   "source": [
    "# Test the function\n",
    "sentence = \"Deep learning is fascinating\"\n",
    "layer = 0  # Layer index\n",
    "head = 0  # Head index\n",
    "output = compute_output_1(sentence, layer, head)\n",
    "print(output.shape)\n",
    "print(output)"
   ]
  },
  {
   "attachments": {},
   "cell_type": "markdown",
   "metadata": {},
   "source": [
    "In the Transformer model, each head has its own weight matrices $W_Q^{l,h}$, $W_K^{l,h}$, and $W_V^{l,h}$ for query, key, and value transformations, respectively. However, in the implementation of Hugging Face's transformers, these weights are stored in one combined tensor for efficiency. Specifically, these weight matrices are combined along the output dimension (i.e., the dimension corresponding to the hidden size), so the shape of the combined tensor is [hidden_size, hidden_size].\n",
    "\n",
    "To obtain the weight matrix for a specific head, we need to split this combined tensor along the output dimension and select the corresponding portion. Here's how to do it:"
   ]
  },
  {
   "cell_type": "code",
   "execution_count": 9,
   "metadata": {},
   "outputs": [],
   "source": [
    "import torch\n",
    "from transformers import BertTokenizer, BertModel\n",
    "\n",
    "def compute_output(sentence, layer, head):\n",
    "    # Load pre-trained model\n",
    "    model = BertModel.from_pretrained('bert-base-uncased', output_attentions=True)\n",
    "    tokenizer = BertTokenizer.from_pretrained('bert-base-uncased')\n",
    "\n",
    "    # Tokenize input and convert to tensor\n",
    "    inputs = tokenizer(sentence, return_tensors=\"pt\")\n",
    "\n",
    "    # Forward pass\n",
    "    # Specify `output_hidden_states=True` when calling the model\n",
    "    outputs = model(**inputs, output_hidden_states=True)\n",
    "\n",
    "    # Obtain the attention weights\n",
    "    attentions = outputs.attentions\n",
    "\n",
    "    # Obtain the attention weights for the specific layer and head\n",
    "    S = attentions[layer][0, head]\n",
    "\n",
    "    # Obtain the value vectors\n",
    "    model.eval()\n",
    "    with torch.no_grad():\n",
    "        hidden_states = outputs.hidden_states[layer]\n",
    "        all_W_v = model.encoder.layer[layer].attention.self.value.weight\n",
    "        num_heads = model.config.num_attention_heads\n",
    "        head_dim = model.config.hidden_size // num_heads\n",
    "        W_v_heads = all_W_v.view(num_heads, head_dim, model.config.hidden_size)\n",
    "        W_v = W_v_heads[head]\n",
    "        V = torch.matmul(hidden_states, W_v.t())\n",
    "\n",
    "    # Compute the output O\n",
    "    O = torch.matmul(S, V)\n",
    "\n",
    "    return O\n"
   ]
  },
  {
   "cell_type": "code",
   "execution_count": 10,
   "metadata": {},
   "outputs": [
    {
     "name": "stderr",
     "output_type": "stream",
     "text": [
      "Some weights of the model checkpoint at bert-base-uncased were not used when initializing BertModel: ['cls.seq_relationship.weight', 'cls.predictions.transform.dense.weight', 'cls.predictions.transform.LayerNorm.weight', 'cls.seq_relationship.bias', 'cls.predictions.transform.dense.bias', 'cls.predictions.bias', 'cls.predictions.transform.LayerNorm.bias']\n",
      "- This IS expected if you are initializing BertModel from the checkpoint of a model trained on another task or with another architecture (e.g. initializing a BertForSequenceClassification model from a BertForPreTraining model).\n",
      "- This IS NOT expected if you are initializing BertModel from the checkpoint of a model that you expect to be exactly identical (initializing a BertForSequenceClassification model from a BertForSequenceClassification model).\n"
     ]
    },
    {
     "name": "stdout",
     "output_type": "stream",
     "text": [
      "torch.Size([1, 6, 64])\n",
      "tensor([[[ 0.6161,  0.0203,  0.0927,  0.1709, -0.5999,  0.2016,  0.2058,\n",
      "           0.0541,  0.0303,  0.0732, -0.4342,  0.0593, -0.1368,  0.1146,\n",
      "           0.0990,  0.1922, -0.2231,  0.2022, -0.4174,  0.0530,  0.2061,\n",
      "           0.0966,  0.0493,  0.2927,  0.1682,  0.0812, -0.3396,  0.0712,\n",
      "           0.3388,  0.0566, -0.0778, -0.0397, -0.4107,  0.2250,  0.1740,\n",
      "          -0.0221,  0.2643, -0.2039,  0.1421,  0.3994, -0.1633, -0.2542,\n",
      "           0.2551,  0.3152, -0.0846,  0.0445,  0.3512, -0.4743, -0.2733,\n",
      "           0.3233, -0.1005,  0.1634, -0.4508, -0.1815,  0.1717, -0.0284,\n",
      "           0.4119,  0.2804,  0.0192, -0.4636,  0.1365,  0.4404,  0.0805,\n",
      "           0.3921],\n",
      "         [ 0.5375,  0.0317,  0.0341,  0.2105, -0.4331,  0.1121,  0.1402,\n",
      "           0.0348,  0.0429,  0.1176, -0.3509,  0.2004, -0.1399, -0.0059,\n",
      "          -0.0320,  0.1172, -0.1960,  0.3601, -0.2545, -0.0250,  0.3612,\n",
      "           0.0695, -0.1173,  0.2478,  0.0480,  0.0372, -0.2670, -0.1288,\n",
      "           0.3411, -0.0203, -0.0871,  0.0276, -0.3599,  0.1820,  0.1591,\n",
      "           0.0439,  0.1536, -0.3497,  0.3067,  0.1662, -0.1895, -0.0588,\n",
      "           0.4188,  0.4520, -0.0886,  0.1338,  0.5615, -0.5109, -0.2798,\n",
      "           0.2708,  0.0250,  0.0734, -0.5004, -0.2492,  0.1747,  0.0451,\n",
      "           0.3286,  0.3377, -0.1529, -0.4526,  0.1118,  0.2362,  0.1408,\n",
      "           0.5269],\n",
      "         [ 0.4041,  0.0027,  0.0068,  0.1828, -0.2962,  0.0500,  0.1882,\n",
      "           0.0747,  0.1247,  0.0869, -0.3403,  0.2452, -0.2185, -0.1453,\n",
      "          -0.0423,  0.1741, -0.1504,  0.3656, -0.2917, -0.0026,  0.2365,\n",
      "           0.0880, -0.2588,  0.2036,  0.0270,  0.0543, -0.2084, -0.1616,\n",
      "           0.4270, -0.1352, -0.0539,  0.0844, -0.3185,  0.1754,  0.1290,\n",
      "           0.1302,  0.2210, -0.4983,  0.4212,  0.1351, -0.1734, -0.0916,\n",
      "           0.4088,  0.4272, -0.1265,  0.2066,  0.7980, -0.5218, -0.1618,\n",
      "           0.1236,  0.0701,  0.1429, -0.4903, -0.2933,  0.0924,  0.0041,\n",
      "           0.3081,  0.4839, -0.1535, -0.5497,  0.0769,  0.1768,  0.1409,\n",
      "           0.4908],\n",
      "         [ 0.5031,  0.0235, -0.0346,  0.1283, -0.2587,  0.0527,  0.1295,\n",
      "           0.0793,  0.0927,  0.0812, -0.3513,  0.2519, -0.1839, -0.1738,\n",
      "          -0.0486,  0.0847, -0.0768,  0.3851, -0.1947, -0.1093,  0.3915,\n",
      "           0.0847, -0.2999,  0.2412, -0.0574,  0.0099, -0.2435, -0.2035,\n",
      "           0.4028, -0.2090, -0.0512,  0.0687, -0.2702,  0.1810,  0.1778,\n",
      "           0.1964,  0.1775, -0.5433,  0.5620,  0.0250, -0.2828, -0.0387,\n",
      "           0.4722,  0.4977, -0.1323,  0.2725,  0.7391, -0.5122, -0.2249,\n",
      "           0.1478,  0.1286,  0.0424, -0.5614, -0.3252,  0.0453,  0.0481,\n",
      "           0.2881,  0.4258, -0.2677, -0.5560, -0.0265,  0.0924,  0.1306,\n",
      "           0.4806],\n",
      "         [ 0.2977,  0.0328,  0.0355,  0.2448, -0.3030,  0.1036,  0.2200,\n",
      "           0.0619,  0.1313,  0.0533, -0.3506,  0.1833, -0.2324, -0.0782,\n",
      "          -0.0073,  0.1611, -0.2175,  0.3482, -0.3455,  0.0269,  0.1893,\n",
      "           0.0844, -0.1152,  0.1929,  0.0208,  0.0865, -0.2423, -0.1579,\n",
      "           0.4345, -0.1037, -0.0547,  0.0971, -0.2931,  0.1593,  0.0891,\n",
      "           0.0645,  0.2483, -0.4757,  0.3613,  0.1782, -0.1767, -0.1078,\n",
      "           0.3686,  0.3976, -0.1136,  0.1569,  0.7946, -0.5379, -0.1262,\n",
      "           0.1743,  0.0026,  0.1811, -0.4313, -0.2597,  0.1868, -0.0555,\n",
      "           0.2718,  0.4528, -0.0163, -0.5456,  0.1180,  0.2644,  0.1737,\n",
      "           0.4698],\n",
      "         [ 0.6082,  0.0109,  0.0203,  0.1795, -0.4470,  0.1281,  0.1042,\n",
      "           0.0514,  0.0542,  0.0803, -0.3888,  0.2003, -0.1889, -0.0418,\n",
      "          -0.0069,  0.1271, -0.1739,  0.3278, -0.3282, -0.0202,  0.2728,\n",
      "           0.0836, -0.0858,  0.2612,  0.0444,  0.0650, -0.2623, -0.0545,\n",
      "           0.3986, -0.0532, -0.1043,  0.0298, -0.3396,  0.1822,  0.1583,\n",
      "           0.0585,  0.1788, -0.3691,  0.3124,  0.2055, -0.2368, -0.1318,\n",
      "           0.3675,  0.3906, -0.0913,  0.1499,  0.6009, -0.4814, -0.2563,\n",
      "           0.2409,  0.0426,  0.0963, -0.4804, -0.2223,  0.1422,  0.0072,\n",
      "           0.3366,  0.3170, -0.0832, -0.4803,  0.0890,  0.2696,  0.1111,\n",
      "           0.4598]]], grad_fn=<CloneBackward0>)\n"
     ]
    }
   ],
   "source": [
    "# Test the function\n",
    "sentence = \"Deep learning is fascinating\"\n",
    "layer = 0  # Layer index\n",
    "head = 0  # Head index\n",
    "output = compute_output(sentence, layer, head)\n",
    "print(output.shape)\n",
    "print(output)"
   ]
  },
  {
   "attachments": {},
   "cell_type": "markdown",
   "metadata": {},
   "source": [
    "## Clustering Context Vectors with Persistent Homology"
   ]
  },
  {
   "cell_type": "code",
   "execution_count": 11,
   "metadata": {},
   "outputs": [
    {
     "data": {
      "image/png": "[encoded data removed]",
      "text/plain": [
       "<Figure size 640x480 with 1 Axes>"
      ]
     },
     "metadata": {},
     "output_type": "display_data"
    }
   ],
   "source": [
    "import matplotlib.pyplot as plt\n",
    "import numpy as np\n",
    "from scipy.spatial import distance_matrix\n",
    "import gudhi as gd\n",
    "\n",
    "def compute_distances_and_plot_barcode(output):\n",
    "    # Detach the output tensor, squeeze, and convert to numpy array\n",
    "    output_np = output.squeeze().detach().numpy()\n",
    "\n",
    "    # Compute the pairwise Euclidean distance matrix\n",
    "    distances = distance_matrix(output_np, output_np)\n",
    "\n",
    "    # Compute the persistent homology of the distance matrix\n",
    "    rips_complex = gd.RipsComplex(distance_matrix=distances, max_edge_length=np.max(distances))\n",
    "    simplex_tree = rips_complex.create_simplex_tree(max_dimension=2)\n",
    "    persistent_homology = simplex_tree.persistence(min_persistence=0.001)\n",
    "    \n",
    "    # Plot the barcode diagram\n",
    "    gd.plot_persistence_barcode(persistence=persistent_homology)\n",
    "    plt.show()\n",
    "\n",
    "# Test the function\n",
    "compute_distances_and_plot_barcode(output)\n"
   ]
  },
  {
   "cell_type": "code",
   "execution_count": 12,
   "metadata": {},
   "outputs": [
    {
     "name": "stderr",
     "output_type": "stream",
     "text": [
      "Some weights of the model checkpoint at bert-base-uncased were not used when initializing BertModel: ['cls.seq_relationship.weight', 'cls.predictions.transform.dense.weight', 'cls.predictions.transform.LayerNorm.weight', 'cls.seq_relationship.bias', 'cls.predictions.transform.dense.bias', 'cls.predictions.bias', 'cls.predictions.transform.LayerNorm.bias']\n",
      "- This IS expected if you are initializing BertModel from the checkpoint of a model trained on another task or with another architecture (e.g. initializing a BertForSequenceClassification model from a BertForPreTraining model).\n",
      "- This IS NOT expected if you are initializing BertModel from the checkpoint of a model that you expect to be exactly identical (initializing a BertForSequenceClassification model from a BertForSequenceClassification model).\n"
     ]
    },
    {
     "data": {
      "application/vnd.jupyter.widget-view+json": {
       "model_id": "ed0c9b94b2654523bbe1bf6d74890a1c",
       "version_major": 2,
       "version_minor": 0
      },
      "text/plain": [
       "interactive(children=(FloatSlider(value=0.0, description='eps', max=1.4685055442168033, step=0.01), Output()),…"
      ]
     },
     "execution_count": 12,
     "metadata": {},
     "output_type": "execute_result"
    }
   ],
   "source": [
    "import torch\n",
    "import gudhi as gd\n",
    "import numpy as np\n",
    "import matplotlib.pyplot as plt\n",
    "import ipywidgets as widgets\n",
    "from scipy.spatial import distance_matrix\n",
    "from mpl_toolkits.mplot3d import Axes3D\n",
    "from transformers import BertTokenizer, BertModel\n",
    "from sklearn.decomposition import PCA\n",
    "from sklearn.manifold import TSNE\n",
    "\n",
    "\n",
    "# Define the function to compute the output\n",
    "def compute_output(sentence, layer, head):\n",
    "    # Load pre-trained model\n",
    "    model = BertModel.from_pretrained('bert-base-uncased', output_attentions=True)\n",
    "    tokenizer = BertTokenizer.from_pretrained('bert-base-uncased')\n",
    "\n",
    "    # Tokenize input and convert to tensor\n",
    "    inputs = tokenizer(sentence, return_tensors=\"pt\")\n",
    "\n",
    "    # Forward pass\n",
    "    outputs = model(**inputs, output_hidden_states=True)\n",
    "\n",
    "    # Obtain the attention weights\n",
    "    attentions = outputs.attentions\n",
    "\n",
    "    # Obtain the attention weights for the specific layer and head\n",
    "    S = attentions[layer][0, head]\n",
    "\n",
    "    # Obtain the value vectors\n",
    "    model.eval()\n",
    "    with torch.no_grad():\n",
    "        hidden_states = outputs.hidden_states[layer]\n",
    "        all_W_v = model.encoder.layer[layer].attention.self.value.weight\n",
    "        num_heads = model.config.num_attention_heads\n",
    "        head_dim = model.config.hidden_size // num_heads\n",
    "        W_v_heads = all_W_v.view(num_heads, head_dim, model.config.hidden_size)\n",
    "        W_v = W_v_heads[head]\n",
    "        V = torch.matmul(hidden_states, W_v.t())\n",
    "\n",
    "    # Compute the output O\n",
    "    O = torch.matmul(S, V)\n",
    "\n",
    "    return O, inputs\n",
    "\n",
    "# Compute the output\n",
    "output, inputs = compute_output(\"Deep learning is fascinating\", 0, 0)\n",
    "\n",
    "# Convert the output tensor to numpy array\n",
    "output_np = output.detach().numpy()[0]\n",
    "\n",
    "# Compute the pairwise Euclidean distance matrix\n",
    "distances = distance_matrix(output_np, output_np)\n",
    "\n",
    "# Compute the number of tokens\n",
    "num_tokens = len(inputs[\"input_ids\"][0])\n",
    "\n",
    "# Decompose output to 3D for visualization\n",
    "# pca = PCA(n_components=3)\n",
    "# output_3d = pca.fit_transform(output_np)\n",
    "\n",
    "# Decompose output to 3D for visualization using t-SNE\n",
    "tsne = TSNE(n_components=3, perplexity=num_tokens-1)  # Set perplexity to the number of tokens\n",
    "output_3d = tsne.fit_transform(output_np)\n",
    "\n",
    "# Define the function to update the plot\n",
    "def update_plot(eps):\n",
    "    fig = plt.figure()\n",
    "    ax = fig.add_subplot(111, projection='3d')\n",
    "    ax.scatter(output_3d[:, 0], output_3d[:, 1], output_3d[:, 2])\n",
    "    \n",
    "    # Add labels\n",
    "    for i, token_id in enumerate(inputs['input_ids'][0]):\n",
    "        ax.text(output_3d[i, 0], output_3d[i, 1], output_3d[i, 2], tokenizer.decode([token_id]))\n",
    "    \n",
    "    # Add edges\n",
    "    for i in range(distances.shape[0]):\n",
    "        for j in range(i+1, distances.shape[1]):\n",
    "            if distances[i, j] <= eps:\n",
    "                ax.plot([output_3d[i, 0], output_3d[j, 0]], \n",
    "                        [output_3d[i, 1], output_3d[j, 1]], \n",
    "                        [output_3d[i, 2], output_3d[j, 2]], 'b-')\n",
    "\n",
    "    plt.show()\n",
    "\n",
    "# Create the interactive widget for the threshold distance parameter\n",
    "eps_slider = widgets.FloatSlider(min=0, max=np.max(distances), step=0.01, value=0)\n",
    "widgets.interactive(update_plot, eps=eps_slider)\n"
   ]
  },
  {
   "cell_type": "code",
   "execution_count": 13,
   "metadata": {},
   "outputs": [
    {
     "name": "stderr",
     "output_type": "stream",
     "text": [
      "Some weights of the model checkpoint at bert-base-uncased were not used when initializing BertModel: ['cls.seq_relationship.weight', 'cls.predictions.transform.dense.weight', 'cls.predictions.transform.LayerNorm.weight', 'cls.seq_relationship.bias', 'cls.predictions.transform.dense.bias', 'cls.predictions.bias', 'cls.predictions.transform.LayerNorm.bias']\n",
      "- This IS expected if you are initializing BertModel from the checkpoint of a model trained on another task or with another architecture (e.g. initializing a BertForSequenceClassification model from a BertForPreTraining model).\n",
      "- This IS NOT expected if you are initializing BertModel from the checkpoint of a model that you expect to be exactly identical (initializing a BertForSequenceClassification model from a BertForSequenceClassification model).\n"
     ]
    },
    {
     "data": {
      "application/vnd.plotly.v1+json": {
       "config": {
        "plotlyServerURL": "https://plot.ly"
       },
       "data": [
        {
         "marker": {
          "color": [
           0,
           1,
           2,
           3,
           4,
           5
          ],
          "colorscale": [
           [
            0,
            "#440154"
           ],
           [
            0.1111111111111111,
            "#482878"
           ],
           [
            0.2222222222222222,
            "#3e4989"
           ],
           [
            0.3333333333333333,
            "#31688e"
           ],
           [
            0.4444444444444444,
            "#26828e"
           ],
           [
            0.5555555555555556,
            "#1f9e89"
           ],
           [
            0.6666666666666666,
            "#35b779"
           ],
           [
            0.7777777777777778,
            "#6ece58"
           ],
           [
            0.8888888888888888,
            "#b5de2b"
           ],
           [
            1,
            "#fde725"
           ]
          ],
          "size": 10
         },
         "mode": "markers+text",
         "text": [
          "[CLS]",
          "deep",
          "learning",
          "is",
          "fascinating",
          "[SEP]"
         ],
         "type": "scatter3d",
         "x": [
          -171.76446533203125,
          12.193901062011719,
          -91.67666625976562,
          144.9464569091797,
          11.148269653320312,
          57.02982711791992
         ],
         "y": [
          -42.68858337402344,
          87.39753723144531,
          -31.66512680053711,
          -83.59904479980469,
          114.6353759765625,
          67.42989349365234
         ],
         "z": [
          7.648690223693848,
          -119.53813171386719,
          325.1586608886719,
          29.715131759643555,
          144.9017791748047,
          -352.3066101074219
         ]
        },
        {
         "line": {
          "color": "red",
          "width": 6
         },
         "mode": "lines",
         "type": "scatter3d",
         "x": [
          12.193901062011719,
          -171.76446533203125
         ],
         "y": [
          87.39753723144531,
          -42.68858337402344
         ],
         "z": [
          -119.53813171386719,
          7.648690223693848
         ]
        },
        {
         "line": {
          "color": "red",
          "width": 6
         },
         "mode": "lines",
         "type": "scatter3d",
         "x": [
          -91.67666625976562,
          -171.76446533203125
         ],
         "y": [
          -31.66512680053711,
          -42.68858337402344
         ],
         "z": [
          325.1586608886719,
          7.648690223693848
         ]
        },
        {
         "line": {
          "color": "red",
          "width": 6
         },
         "mode": "lines",
         "type": "scatter3d",
         "x": [
          -91.67666625976562,
          12.193901062011719
         ],
         "y": [
          -31.66512680053711,
          87.39753723144531
         ],
         "z": [
          325.1586608886719,
          -119.53813171386719
         ]
        },
        {
         "line": {
          "color": "red",
          "width": 6
         },
         "mode": "lines",
         "type": "scatter3d",
         "x": [
          144.9464569091797,
          -171.76446533203125
         ],
         "y": [
          -83.59904479980469,
          -42.68858337402344
         ],
         "z": [
          29.715131759643555,
          7.648690223693848
         ]
        },
        {
         "line": {
          "color": "red",
          "width": 6
         },
         "mode": "lines",
         "type": "scatter3d",
         "x": [
          144.9464569091797,
          12.193901062011719
         ],
         "y": [
          -83.59904479980469,
          87.39753723144531
         ],
         "z": [
          29.715131759643555,
          -119.53813171386719
         ]
        },
        {
         "line": {
          "color": "red",
          "width": 6
         },
         "mode": "lines",
         "type": "scatter3d",
         "x": [
          144.9464569091797,
          -91.67666625976562
         ],
         "y": [
          -83.59904479980469,
          -31.66512680053711
         ],
         "z": [
          29.715131759643555,
          325.1586608886719
         ]
        },
        {
         "line": {
          "color": "red",
          "width": 6
         },
         "mode": "lines",
         "type": "scatter3d",
         "x": [
          11.148269653320312,
          -171.76446533203125
         ],
         "y": [
          114.6353759765625,
          -42.68858337402344
         ],
         "z": [
          144.9017791748047,
          7.648690223693848
         ]
        },
        {
         "line": {
          "color": "red",
          "width": 6
         },
         "mode": "lines",
         "type": "scatter3d",
         "x": [
          11.148269653320312,
          12.193901062011719
         ],
         "y": [
          114.6353759765625,
          87.39753723144531
         ],
         "z": [
          144.9017791748047,
          -119.53813171386719
         ]
        },
        {
         "line": {
          "color": "red",
          "width": 6
         },
         "mode": "lines",
         "type": "scatter3d",
         "x": [
          11.148269653320312,
          -91.67666625976562
         ],
         "y": [
          114.6353759765625,
          -31.66512680053711
         ],
         "z": [
          144.9017791748047,
          325.1586608886719
         ]
        },
        {
         "line": {
          "color": "red",
          "width": 6
         },
         "mode": "lines",
         "type": "scatter3d",
         "x": [
          11.148269653320312,
          144.9464569091797
         ],
         "y": [
          114.6353759765625,
          -83.59904479980469
         ],
         "z": [
          144.9017791748047,
          29.715131759643555
         ]
        },
        {
         "line": {
          "color": "red",
          "width": 6
         },
         "mode": "lines",
         "type": "scatter3d",
         "x": [
          57.02982711791992,
          -171.76446533203125
         ],
         "y": [
          67.42989349365234,
          -42.68858337402344
         ],
         "z": [
          -352.3066101074219,
          7.648690223693848
         ]
        },
        {
         "line": {
          "color": "red",
          "width": 6
         },
         "mode": "lines",
         "type": "scatter3d",
         "x": [
          57.02982711791992,
          12.193901062011719
         ],
         "y": [
          67.42989349365234,
          87.39753723144531
         ],
         "z": [
          -352.3066101074219,
          -119.53813171386719
         ]
        },
        {
         "line": {
          "color": "red",
          "width": 6
         },
         "mode": "lines",
         "type": "scatter3d",
         "x": [
          57.02982711791992,
          -91.67666625976562
         ],
         "y": [
          67.42989349365234,
          -31.66512680053711
         ],
         "z": [
          -352.3066101074219,
          325.1586608886719
         ]
        },
        {
         "line": {
          "color": "red",
          "width": 6
         },
         "mode": "lines",
         "type": "scatter3d",
         "x": [
          57.02982711791992,
          144.9464569091797
         ],
         "y": [
          67.42989349365234,
          -83.59904479980469
         ],
         "z": [
          -352.3066101074219,
          29.715131759643555
         ]
        },
        {
         "line": {
          "color": "red",
          "width": 6
         },
         "mode": "lines",
         "type": "scatter3d",
         "x": [
          57.02982711791992,
          11.148269653320312
         ],
         "y": [
          67.42989349365234,
          114.6353759765625
         ],
         "z": [
          -352.3066101074219,
          144.9017791748047
         ]
        }
       ],
       "layout": {
        "scene": {
         "xaxis": {
          "title": {
           "text": "X"
          }
         },
         "yaxis": {
          "title": {
           "text": "Y"
          }
         },
         "zaxis": {
          "title": {
           "text": "Z"
          }
         }
        },
        "template": {
         "data": {
          "bar": [
           {
            "error_x": {
             "color": "#2a3f5f"
            },
            "error_y": {
             "color": "#2a3f5f"
            },
            "marker": {
             "line": {
              "color": "#E5ECF6",
              "width": 0.5
             },
             "pattern": {
              "fillmode": "overlay",
              "size": 10,
              "solidity": 0.2
             }
            },
            "type": "bar"
           }
          ],
          "barpolar": [
           {
            "marker": {
             "line": {
              "color": "#E5ECF6",
              "width": 0.5
             },
             "pattern": {
              "fillmode": "overlay",
              "size": 10,
              "solidity": 0.2
             }
            },
            "type": "barpolar"
           }
          ],
          "carpet": [
           {
            "aaxis": {
             "endlinecolor": "#2a3f5f",
             "gridcolor": "white",
             "linecolor": "white",
             "minorgridcolor": "white",
             "startlinecolor": "#2a3f5f"
            },
            "baxis": {
             "endlinecolor": "#2a3f5f",
             "gridcolor": "white",
             "linecolor": "white",
             "minorgridcolor": "white",
             "startlinecolor": "#2a3f5f"
            },
            "type": "carpet"
           }
          ],
          "choropleth": [
           {
            "colorbar": {
             "outlinewidth": 0,
             "ticks": ""
            },
            "type": "choropleth"
           }
          ],
          "contour": [
           {
            "colorbar": {
             "outlinewidth": 0,
             "ticks": ""
            },
            "colorscale": [
             [
              0,
              "#0d0887"
             ],
             [
              0.1111111111111111,
              "#46039f"
             ],
             [
              0.2222222222222222,
              "#7201a8"
             ],
             [
              0.3333333333333333,
              "#9c179e"
             ],
             [
              0.4444444444444444,
              "#bd3786"
             ],
             [
              0.5555555555555556,
              "#d8576b"
             ],
             [
              0.6666666666666666,
              "#ed7953"
             ],
             [
              0.7777777777777778,
              "#fb9f3a"
             ],
             [
              0.8888888888888888,
              "#fdca26"
             ],
             [
              1,
              "#f0f921"
             ]
            ],
            "type": "contour"
           }
          ],
          "contourcarpet": [
           {
            "colorbar": {
             "outlinewidth": 0,
             "ticks": ""
            },
            "type": "contourcarpet"
           }
          ],
          "heatmap": [
           {
            "colorbar": {
             "outlinewidth": 0,
             "ticks": ""
            },
            "colorscale": [
             [
              0,
              "#0d0887"
             ],
             [
              0.1111111111111111,
              "#46039f"
             ],
             [
              0.2222222222222222,
              "#7201a8"
             ],
             [
              0.3333333333333333,
              "#9c179e"
             ],
             [
              0.4444444444444444,
              "#bd3786"
             ],
             [
              0.5555555555555556,
              "#d8576b"
             ],
             [
              0.6666666666666666,
              "#ed7953"
             ],
             [
              0.7777777777777778,
              "#fb9f3a"
             ],
             [
              0.8888888888888888,
              "#fdca26"
             ],
             [
              1,
              "#f0f921"
             ]
            ],
            "type": "heatmap"
           }
          ],
          "heatmapgl": [
           {
            "colorbar": {
             "outlinewidth": 0,
             "ticks": ""
            },
            "colorscale": [
             [
              0,
              "#0d0887"
             ],
             [
              0.1111111111111111,
              "#46039f"
             ],
             [
              0.2222222222222222,
              "#7201a8"
             ],
             [
              0.3333333333333333,
              "#9c179e"
             ],
             [
              0.4444444444444444,
              "#bd3786"
             ],
             [
              0.5555555555555556,
              "#d8576b"
             ],
             [
              0.6666666666666666,
              "#ed7953"
             ],
             [
              0.7777777777777778,
              "#fb9f3a"
             ],
             [
              0.8888888888888888,
              "#fdca26"
             ],
             [
              1,
              "#f0f921"
             ]
            ],
            "type": "heatmapgl"
           }
          ],
          "histogram": [
           {
            "marker": {
             "pattern": {
              "fillmode": "overlay",
              "size": 10,
              "solidity": 0.2
             }
            },
            "type": "histogram"
           }
          ],
          "histogram2d": [
           {
            "colorbar": {
             "outlinewidth": 0,
             "ticks": ""
            },
            "colorscale": [
             [
              0,
              "#0d0887"
             ],
             [
              0.1111111111111111,
              "#46039f"
             ],
             [
              0.2222222222222222,
              "#7201a8"
             ],
             [
              0.3333333333333333,
              "#9c179e"
             ],
             [
              0.4444444444444444,
              "#bd3786"
             ],
             [
              0.5555555555555556,
              "#d8576b"
             ],
             [
              0.6666666666666666,
              "#ed7953"
             ],
             [
              0.7777777777777778,
              "#fb9f3a"
             ],
             [
              0.8888888888888888,
              "#fdca26"
             ],
             [
              1,
              "#f0f921"
             ]
            ],
            "type": "histogram2d"
           }
          ],
          "histogram2dcontour": [
           {
            "colorbar": {
             "outlinewidth": 0,
             "ticks": ""
            },
            "colorscale": [
             [
              0,
              "#0d0887"
             ],
             [
              0.1111111111111111,
              "#46039f"
             ],
             [
              0.2222222222222222,
              "#7201a8"
             ],
             [
              0.3333333333333333,
              "#9c179e"
             ],
             [
              0.4444444444444444,
              "#bd3786"
             ],
             [
              0.5555555555555556,
              "#d8576b"
             ],
             [
              0.6666666666666666,
              "#ed7953"
             ],
             [
              0.7777777777777778,
              "#fb9f3a"
             ],
             [
              0.8888888888888888,
              "#fdca26"
             ],
             [
              1,
              "#f0f921"
             ]
            ],
            "type": "histogram2dcontour"
           }
          ],
          "mesh3d": [
           {
            "colorbar": {
             "outlinewidth": 0,
             "ticks": ""
            },
            "type": "mesh3d"
           }
          ],
          "parcoords": [
           {
            "line": {
             "colorbar": {
              "outlinewidth": 0,
              "ticks": ""
             }
            },
            "type": "parcoords"
           }
          ],
          "pie": [
           {
            "automargin": true,
            "type": "pie"
           }
          ],
          "scatter": [
           {
            "fillpattern": {
             "fillmode": "overlay",
             "size": 10,
             "solidity": 0.2
            },
            "type": "scatter"
           }
          ],
          "scatter3d": [
           {
            "line": {
             "colorbar": {
              "outlinewidth": 0,
              "ticks": ""
             }
            },
            "marker": {
             "colorbar": {
              "outlinewidth": 0,
              "ticks": ""
             }
            },
            "type": "scatter3d"
           }
          ],
          "scattercarpet": [
           {
            "marker": {
             "colorbar": {
              "outlinewidth": 0,
              "ticks": ""
             }
            },
            "type": "scattercarpet"
           }
          ],
          "scattergeo": [
           {
            "marker": {
             "colorbar": {
              "outlinewidth": 0,
              "ticks": ""
             }
            },
            "type": "scattergeo"
           }
          ],
          "scattergl": [
           {
            "marker": {
             "colorbar": {
              "outlinewidth": 0,
              "ticks": ""
             }
            },
            "type": "scattergl"
           }
          ],
          "scattermapbox": [
           {
            "marker": {
             "colorbar": {
              "outlinewidth": 0,
              "ticks": ""
             }
            },
            "type": "scattermapbox"
           }
          ],
          "scatterpolar": [
           {
            "marker": {
             "colorbar": {
              "outlinewidth": 0,
              "ticks": ""
             }
            },
            "type": "scatterpolar"
           }
          ],
          "scatterpolargl": [
           {
            "marker": {
             "colorbar": {
              "outlinewidth": 0,
              "ticks": ""
             }
            },
            "type": "scatterpolargl"
           }
          ],
          "scatterternary": [
           {
            "marker": {
             "colorbar": {
              "outlinewidth": 0,
              "ticks": ""
             }
            },
            "type": "scatterternary"
           }
          ],
          "surface": [
           {
            "colorbar": {
             "outlinewidth": 0,
             "ticks": ""
            },
            "colorscale": [
             [
              0,
              "#0d0887"
             ],
             [
              0.1111111111111111,
              "#46039f"
             ],
             [
              0.2222222222222222,
              "#7201a8"
             ],
             [
              0.3333333333333333,
              "#9c179e"
             ],
             [
              0.4444444444444444,
              "#bd3786"
             ],
             [
              0.5555555555555556,
              "#d8576b"
             ],
             [
              0.6666666666666666,
              "#ed7953"
             ],
             [
              0.7777777777777778,
              "#fb9f3a"
             ],
             [
              0.8888888888888888,
              "#fdca26"
             ],
             [
              1,
              "#f0f921"
             ]
            ],
            "type": "surface"
           }
          ],
          "table": [
           {
            "cells": {
             "fill": {
              "color": "#EBF0F8"
             },
             "line": {
              "color": "white"
             }
            },
            "header": {
             "fill": {
              "color": "#C8D4E3"
             },
             "line": {
              "color": "white"
             }
            },
            "type": "table"
           }
          ]
         },
         "layout": {
          "annotationdefaults": {
           "arrowcolor": "#2a3f5f",
           "arrowhead": 0,
           "arrowwidth": 1
          },
          "autotypenumbers": "strict",
          "coloraxis": {
           "colorbar": {
            "outlinewidth": 0,
            "ticks": ""
           }
          },
          "colorscale": {
           "diverging": [
            [
             0,
             "#8e0152"
            ],
            [
             0.1,
             "#c51b7d"
            ],
            [
             0.2,
             "#de77ae"
            ],
            [
             0.3,
             "#f1b6da"
            ],
            [
             0.4,
             "#fde0ef"
            ],
            [
             0.5,
             "#f7f7f7"
            ],
            [
             0.6,
             "#e6f5d0"
            ],
            [
             0.7,
             "#b8e186"
            ],
            [
             0.8,
             "#7fbc41"
            ],
            [
             0.9,
             "#4d9221"
            ],
            [
             1,
             "#276419"
            ]
           ],
           "sequential": [
            [
             0,
             "#0d0887"
            ],
            [
             0.1111111111111111,
             "#46039f"
            ],
            [
             0.2222222222222222,
             "#7201a8"
            ],
            [
             0.3333333333333333,
             "#9c179e"
            ],
            [
             0.4444444444444444,
             "#bd3786"
            ],
            [
             0.5555555555555556,
             "#d8576b"
            ],
            [
             0.6666666666666666,
             "#ed7953"
            ],
            [
             0.7777777777777778,
             "#fb9f3a"
            ],
            [
             0.8888888888888888,
             "#fdca26"
            ],
            [
             1,
             "#f0f921"
            ]
           ],
           "sequentialminus": [
            [
             0,
             "#0d0887"
            ],
            [
             0.1111111111111111,
             "#46039f"
            ],
            [
             0.2222222222222222,
             "#7201a8"
            ],
            [
             0.3333333333333333,
             "#9c179e"
            ],
            [
             0.4444444444444444,
             "#bd3786"
            ],
            [
             0.5555555555555556,
             "#d8576b"
            ],
            [
             0.6666666666666666,
             "#ed7953"
            ],
            [
             0.7777777777777778,
             "#fb9f3a"
            ],
            [
             0.8888888888888888,
             "#fdca26"
            ],
            [
             1,
             "#f0f921"
            ]
           ]
          },
          "colorway": [
           "#636efa",
           "#EF553B",
           "#00cc96",
           "#ab63fa",
           "#FFA15A",
           "#19d3f3",
           "#FF6692",
           "#B6E880",
           "#FF97FF",
           "#FECB52"
          ],
          "font": {
           "color": "#2a3f5f"
          },
          "geo": {
           "bgcolor": "white",
           "lakecolor": "white",
           "landcolor": "#E5ECF6",
           "showlakes": true,
           "showland": true,
           "subunitcolor": "white"
          },
          "hoverlabel": {
           "align": "left"
          },
          "hovermode": "closest",
          "mapbox": {
           "style": "light"
          },
          "paper_bgcolor": "white",
          "plot_bgcolor": "#E5ECF6",
          "polar": {
           "angularaxis": {
            "gridcolor": "white",
            "linecolor": "white",
            "ticks": ""
           },
           "bgcolor": "#E5ECF6",
           "radialaxis": {
            "gridcolor": "white",
            "linecolor": "white",
            "ticks": ""
           }
          },
          "scene": {
           "xaxis": {
            "backgroundcolor": "#E5ECF6",
            "gridcolor": "white",
            "gridwidth": 2,
            "linecolor": "white",
            "showbackground": true,
            "ticks": "",
            "zerolinecolor": "white"
           },
           "yaxis": {
            "backgroundcolor": "#E5ECF6",
            "gridcolor": "white",
            "gridwidth": 2,
            "linecolor": "white",
            "showbackground": true,
            "ticks": "",
            "zerolinecolor": "white"
           },
           "zaxis": {
            "backgroundcolor": "#E5ECF6",
            "gridcolor": "white",
            "gridwidth": 2,
            "linecolor": "white",
            "showbackground": true,
            "ticks": "",
            "zerolinecolor": "white"
           }
          },
          "shapedefaults": {
           "line": {
            "color": "#2a3f5f"
           }
          },
          "ternary": {
           "aaxis": {
            "gridcolor": "white",
            "linecolor": "white",
            "ticks": ""
           },
           "baxis": {
            "gridcolor": "white",
            "linecolor": "white",
            "ticks": ""
           },
           "bgcolor": "#E5ECF6",
           "caxis": {
            "gridcolor": "white",
            "linecolor": "white",
            "ticks": ""
           }
          },
          "title": {
           "x": 0.05
          },
          "xaxis": {
           "automargin": true,
           "gridcolor": "white",
           "linecolor": "white",
           "ticks": "",
           "title": {
            "standoff": 15
           },
           "zerolinecolor": "white",
           "zerolinewidth": 2
          },
          "yaxis": {
           "automargin": true,
           "gridcolor": "white",
           "linecolor": "white",
           "ticks": "",
           "title": {
            "standoff": 15
           },
           "zerolinecolor": "white",
           "zerolinewidth": 2
          }
         }
        }
       }
      }
     },
     "metadata": {},
     "output_type": "display_data"
    },
    {
     "data": {
      "application/vnd.jupyter.widget-view+json": {
       "model_id": "4a75e22c637b4150b1ca11a90f0912b5",
       "version_major": 2,
       "version_minor": 0
      },
      "text/plain": [
       "interactive(children=(FloatSlider(value=1.4785055442168034, description='eps', max=1.4785055442168034, step=0.…"
      ]
     },
     "execution_count": 13,
     "metadata": {},
     "output_type": "execute_result"
    }
   ],
   "source": [
    "from ipywidgets import widgets, HBox, Output\n",
    "import plotly as py\n",
    "from plotly.offline import iplot\n",
    "from IPython.display import display, clear_output\n",
    "import numpy as np\n",
    "from sklearn.manifold import TSNE\n",
    "import plotly.graph_objects as go\n",
    "\n",
    "\n",
    "# Define the function to compute the output\n",
    "def compute_output(sentence, layer, head):\n",
    "    # Load pre-trained model\n",
    "    model = BertModel.from_pretrained('bert-base-uncased', output_attentions=True)\n",
    "    tokenizer = BertTokenizer.from_pretrained('bert-base-uncased')\n",
    "\n",
    "    # Tokenize input and convert to tensor\n",
    "    inputs = tokenizer(sentence, return_tensors=\"pt\")\n",
    "\n",
    "    # Forward pass\n",
    "    outputs = model(**inputs, output_hidden_states=True)\n",
    "\n",
    "    # Obtain the attention weights\n",
    "    attentions = outputs.attentions\n",
    "\n",
    "    # Obtain the attention weights for the specific layer and head\n",
    "    S = attentions[layer][0, head]\n",
    "\n",
    "    # Obtain the value vectors\n",
    "    model.eval()\n",
    "    with torch.no_grad():\n",
    "        hidden_states = outputs.hidden_states[layer]\n",
    "        all_W_v = model.encoder.layer[layer].attention.self.value.weight\n",
    "        num_heads = model.config.num_attention_heads\n",
    "        head_dim = model.config.hidden_size // num_heads\n",
    "        W_v_heads = all_W_v.view(num_heads, head_dim, model.config.hidden_size)\n",
    "        W_v = W_v_heads[head]\n",
    "        V = torch.matmul(hidden_states, W_v.t())\n",
    "\n",
    "    # Compute the output O\n",
    "    O = torch.matmul(S, V)\n",
    "\n",
    "    return O, inputs\n",
    "\n",
    "# Compute the output\n",
    "output, inputs = compute_output(\"Deep learning is fascinating\", 0, 0)\n",
    "\n",
    "# Convert the output tensor to numpy array\n",
    "output_np = output.detach().numpy()[0]\n",
    "\n",
    "# Compute the pairwise Euclidean distance matrix\n",
    "distances = distance_matrix(output_np, output_np)\n",
    "\n",
    "# Compute the number of tokens\n",
    "num_tokens = len(inputs[\"input_ids\"][0])\n",
    "\n",
    "# Decompose output to 3D for visualization using t-SNE\n",
    "tsne = TSNE(n_components=3, perplexity=num_tokens-1)  # Set perplexity to the number of tokens\n",
    "output_3d = tsne.fit_transform(output_np)\n",
    "\n",
    "# Get token labels\n",
    "labels = tokenizer.convert_ids_to_tokens(inputs[\"input_ids\"][0])\n",
    "\n",
    "# Define the figure for plotting\n",
    "fig = go.Figure()\n",
    "\n",
    "# Define the function to update the plot\n",
    "def update_plot(eps):\n",
    "    fig.data = []  # clear the data\n",
    "\n",
    "    # Add points\n",
    "    fig.add_trace(\n",
    "        go.Scatter3d(\n",
    "            x=output_3d[:, 0],\n",
    "            y=output_3d[:, 1],\n",
    "            z=output_3d[:, 2],\n",
    "            mode='markers+text',\n",
    "            text=labels,  # Add token labels\n",
    "            marker=dict(\n",
    "                size=10,\n",
    "                color=np.arange(len(output_3d)),  # Use indices as colors\n",
    "                colorscale='Viridis',\n",
    "            )\n",
    "        )\n",
    "    )\n",
    "\n",
    "    # Filter out distances greater than the threshold\n",
    "    edges = distances < eps\n",
    "\n",
    "    # Create lines connecting the points that are closer than the threshold\n",
    "    lines = []\n",
    "    for i in range(len(output_3d)):\n",
    "        for j in range(i):\n",
    "            if edges[i, j]:  # If the distance is less than the threshold\n",
    "                lines.append(\n",
    "                    go.Scatter3d(\n",
    "                        x=[output_3d[i, 0], output_3d[j, 0]],\n",
    "                        y=[output_3d[i, 1], output_3d[j, 1]],\n",
    "                        z=[output_3d[i, 2], output_3d[j, 2]],\n",
    "                        mode='lines',\n",
    "                        line=dict(color='red', width=6)\n",
    "                    )\n",
    "                )\n",
    "\n",
    "    # Add the lines to the figure\n",
    "    for line in lines:\n",
    "        fig.add_trace(line)\n",
    "\n",
    "    # Update the layout and display the figure\n",
    "    fig.update_layout(scene=dict(xaxis_title='X', yaxis_title='Y', zaxis_title='Z'))\n",
    "    fig.show()\n",
    "\n",
    "\n",
    "# Create the interactive widget for the threshold distance parameter\n",
    "eps_slider = widgets.FloatSlider(min=0, max=np.max(distances)+0.01, step=0.01, value=np.max(distances)+0.01)\n",
    "widgets.interactive(update_plot, eps=eps_slider)\n"
   ]
  },
  {
   "attachments": {},
   "cell_type": "markdown",
   "metadata": {},
   "source": [
    "## Collocation and Keyphrase-Keyword Extraction"
   ]
  },
  {
   "attachments": {},
   "cell_type": "markdown",
   "metadata": {},
   "source": [
    "We can use persistent homology of a single attention head's context vectors to perform collocation and keyword-keyphrase extraction as follows."
   ]
  },
  {
   "cell_type": "code",
   "execution_count": 14,
   "metadata": {},
   "outputs": [],
   "source": [
    "text_2 = [\"Deep learning has revolutionized the field of artificial intelligence, offering innovative solutions to complex problems across various industries. Deep learning algorithms, a subset of machine learning, allow computers to learn from vast amounts of data. While a human brain can naturally perform this task, teaching a computer to understand and learn from data is a significant achievement in the realm of artificial intelligence. Deep learning models can identify patterns and reproduce human-like decision-making capabilities, which makes them incredibly valuable for various applications. For instance, in the healthcare sector, deep learning algorithms are being utilized for early detection of diseases and patient care management. Similarly, in the field of autonomous vehicles, deep learning plays a crucial role in enabling these vehicles to understand and interact with their surroundings. By processing and learning from large amounts of data, deep learning models can accurately predict and respond to different situations, thereby ensuring safety and efficiency. Moreover, deep learning is also being used in natural language processing to understand and generate human language. From voice assistants like Siri and Alexa to translation services like Google Translate, deep learning is at the core of these services, enabling them to understand and interact with users in a more human-like manner. Furthermore, deep learning is also paving the way for advancements in the field of image and video processing. From generating high-quality visual effects for movies to improving the quality of video calls, deep learning algorithms are enhancing the way we interact with digital media.\"]"
   ]
  },
  {
   "cell_type": "code",
   "execution_count": 15,
   "metadata": {},
   "outputs": [
    {
     "name": "stderr",
     "output_type": "stream",
     "text": [
      "Some weights of the model checkpoint at bert-base-uncased were not used when initializing BertModel: ['cls.seq_relationship.weight', 'cls.predictions.transform.dense.weight', 'cls.predictions.transform.LayerNorm.weight', 'cls.seq_relationship.bias', 'cls.predictions.transform.dense.bias', 'cls.predictions.bias', 'cls.predictions.transform.LayerNorm.bias']\n",
      "- This IS expected if you are initializing BertModel from the checkpoint of a model trained on another task or with another architecture (e.g. initializing a BertForSequenceClassification model from a BertForPreTraining model).\n",
      "- This IS NOT expected if you are initializing BertModel from the checkpoint of a model that you expect to be exactly identical (initializing a BertForSequenceClassification model from a BertForSequenceClassification model).\n"
     ]
    },
    {
     "name": "stdout",
     "output_type": "stream",
     "text": [
      "torch.Size([1, 288, 64])\n",
      "tensor([[[ 0.0340,  0.0935, -0.0390,  ...,  0.0113, -0.0101,  0.0798],\n",
      "         [ 0.0722,  0.0933, -0.0438,  ...,  0.0252,  0.0075,  0.1362],\n",
      "         [ 0.3029,  0.5654, -0.1230,  ..., -0.3581,  0.3543,  0.0405],\n",
      "         ...,\n",
      "         [-0.1040, -0.0214, -0.0591,  ..., -0.1983,  0.0653, -0.1375],\n",
      "         [ 0.0095,  0.0694, -0.0408,  ..., -0.0356, -0.0215,  0.0417],\n",
      "         [ 0.0159,  0.0986, -0.0567,  ..., -0.0074,  0.0030,  0.0519]]],\n",
      "       grad_fn=<CloneBackward0>)\n"
     ]
    }
   ],
   "source": [
    "import torch\n",
    "from transformers import BertTokenizer, BertModel\n",
    "\n",
    "def compute_output(sentence, layer, head):\n",
    "    # Load pre-trained model\n",
    "    model = BertModel.from_pretrained('bert-base-uncased', output_attentions=True)\n",
    "    tokenizer = BertTokenizer.from_pretrained('bert-base-uncased')\n",
    "\n",
    "    # Tokenize input and convert to tensor\n",
    "    inputs = tokenizer(sentence, return_tensors=\"pt\")\n",
    "\n",
    "    # Forward pass\n",
    "    # Specify `output_hidden_states=True` when calling the model\n",
    "    outputs = model(**inputs, output_hidden_states=True)\n",
    "\n",
    "    # Obtain the attention weights\n",
    "    attentions = outputs.attentions\n",
    "\n",
    "    # Obtain the attention weights for the specific layer and head\n",
    "    S = attentions[layer][0, head]\n",
    "\n",
    "    # Obtain the value vectors\n",
    "    model.eval()\n",
    "    with torch.no_grad():\n",
    "        hidden_states = outputs.hidden_states[layer]\n",
    "        all_W_v = model.encoder.layer[layer].attention.self.value.weight\n",
    "        num_heads = model.config.num_attention_heads\n",
    "        head_dim = model.config.hidden_size // num_heads\n",
    "        W_v_heads = all_W_v.view(num_heads, head_dim, model.config.hidden_size)\n",
    "        W_v = W_v_heads[head]\n",
    "        V = torch.matmul(hidden_states, W_v.t())\n",
    "\n",
    "    # Compute the output O\n",
    "    O = torch.matmul(S, V)\n",
    "\n",
    "    return O\n",
    "\n",
    "# Set the layer and head to use for computation\n",
    "layer = 5\n",
    "head = 10\n",
    "\n",
    "# Compute the context vectors for each text in the corpus\n",
    "context_2 = [compute_output(t, layer, head) for t in text_2]\n",
    "print(context_2[0].shape)\n",
    "print(context_2[0])"
   ]
  },
  {
   "cell_type": "code",
   "execution_count": 16,
   "metadata": {},
   "outputs": [
    {
     "name": "stdout",
     "output_type": "stream",
     "text": [
      "Barcode for text 0:\n"
     ]
    },
    {
     "data": {
      "image/png": "[encoded data removed]",
      "text/plain": [
       "<Figure size 640x480 with 1 Axes>"
      ]
     },
     "metadata": {},
     "output_type": "display_data"
    }
   ],
   "source": [
    "import matplotlib.pyplot as plt\n",
    "import numpy as np\n",
    "from scipy.spatial import distance_matrix\n",
    "import gudhi as gd\n",
    "\n",
    "def compute_distances_and_plot_barcode(output):\n",
    "    # Detach the output tensor, squeeze, and convert to numpy array\n",
    "    output_np = output.squeeze().detach().numpy()\n",
    "\n",
    "    # Compute the pairwise Euclidean distance matrix\n",
    "    distances = distance_matrix(output_np, output_np)\n",
    "\n",
    "    # Compute the persistent homology of the distance matrix\n",
    "    rips_complex = gd.RipsComplex(distance_matrix=distances, max_edge_length=np.max(distances))\n",
    "    simplex_tree = rips_complex.create_simplex_tree(max_dimension=2)\n",
    "    persistent_homology = simplex_tree.persistence(min_persistence=0.001)\n",
    "    \n",
    "    # Plot the barcode diagram\n",
    "    gd.plot_persistence_barcode(persistence=persistent_homology)\n",
    "    plt.show()\n",
    "\n",
    "# Compute the barcode diagrams for each context vector\n",
    "for i, output in enumerate(context_2):\n",
    "    print(f\"Barcode for text {i}:\")\n",
    "    compute_distances_and_plot_barcode(output)"
   ]
  },
  {
   "cell_type": "code",
   "execution_count": 17,
   "metadata": {},
   "outputs": [
    {
     "name": "stdout",
     "output_type": "stream",
     "text": [
      "Clusters for text 0:\n",
      "Cluster 0: [CLS], deep, artificial, intelligence, ., deep, while, human, naturally, artificial, intelligence, deep, human, incredibly, deep, autonomous, deep, by, deep, accurately, ., natural, language, from, deep, furthermore, deep, from, deep, digital, ., [SEP]\n",
      "Cluster 1: learning, algorithms\n",
      "Cluster 2: machine, learning\n",
      "Cluster 3: of, data\n",
      "Cluster 4: significant, achievement\n",
      "Cluster 5: patient, care\n",
      "Cluster 6: interact, with, surroundings\n",
      "Cluster 7: large, amounts\n",
      "Cluster 8: situations, ,\n",
      "Cluster 9: also, being\n",
      "Cluster 10: interact, with\n",
      "Cluster 11: interact, with\n"
     ]
    }
   ],
   "source": [
    "from scipy.spatial.distance import pdist, squareform\n",
    "from sklearn.cluster import DBSCAN\n",
    "from transformers import BertTokenizer\n",
    "\n",
    "def cluster_and_get_words(context, sentence, eps=0.85):\n",
    "    # Load pre-trained model tokenizer\n",
    "    tokenizer = BertTokenizer.from_pretrained('bert-base-uncased')\n",
    "\n",
    "    # Tokenize input and convert to tensor\n",
    "    inputs = tokenizer(sentence, return_tensors=\"pt\")\n",
    "    tokens = tokenizer.convert_ids_to_tokens(inputs['input_ids'][0])\n",
    "\n",
    "    # Squeeze the context tensor to remove the batch size dimension\n",
    "    context = context.squeeze(0)\n",
    "\n",
    "    # Compute the pairwise distance matrix\n",
    "    distances = pdist(context.detach().numpy(), 'euclidean')\n",
    "    dist_matrix = squareform(distances)\n",
    "\n",
    "    # Run DBSCAN on the distance matrix\n",
    "    clustering = DBSCAN(eps=eps, min_samples=2, metric='precomputed').fit(dist_matrix)\n",
    "\n",
    "    # Get the words corresponding to each cluster\n",
    "    clusters = {}\n",
    "    for i, label in enumerate(clustering.labels_):\n",
    "        if label != -1:  # Ignore noise (-1 label)\n",
    "            if label not in clusters:\n",
    "                clusters[label] = []\n",
    "            clusters[label].append(tokens[i])\n",
    "\n",
    "    return clusters\n",
    "\n",
    "# Compute the clusters for each context vector\n",
    "clusters_2 = []\n",
    "for i, output in enumerate(context_2):\n",
    "    print(f\"Clusters for text {i}:\")\n",
    "    clusters_2.append(cluster_and_get_words(output, text_2[i]))\n",
    "    for label, words in clusters_2[-1].items():\n",
    "        print(f\"Cluster {label}: {', '.join(words)}\")"
   ]
  },
  {
   "attachments": {},
   "cell_type": "markdown",
   "metadata": {},
   "source": [
    "---"
   ]
  },
  {
   "cell_type": "code",
   "execution_count": 18,
   "metadata": {},
   "outputs": [
    {
     "name": "stderr",
     "output_type": "stream",
     "text": [
      "Some weights of the model checkpoint at bert-base-uncased were not used when initializing BertModel: ['cls.seq_relationship.weight', 'cls.predictions.transform.dense.weight', 'cls.predictions.transform.LayerNorm.weight', 'cls.seq_relationship.bias', 'cls.predictions.transform.dense.bias', 'cls.predictions.bias', 'cls.predictions.transform.LayerNorm.bias']\n",
      "- This IS expected if you are initializing BertModel from the checkpoint of a model trained on another task or with another architecture (e.g. initializing a BertForSequenceClassification model from a BertForPreTraining model).\n",
      "- This IS NOT expected if you are initializing BertModel from the checkpoint of a model that you expect to be exactly identical (initializing a BertForSequenceClassification model from a BertForSequenceClassification model).\n"
     ]
    },
    {
     "name": "stdout",
     "output_type": "stream",
     "text": [
      "torch.Size([1, 288, 64])\n",
      "tensor([[[-0.0807,  0.0148,  0.0438,  ...,  0.0662, -0.1268,  0.0168],\n",
      "         [-0.0679,  0.0386,  0.0325,  ...,  0.0441, -0.1359,  0.0619],\n",
      "         [-0.0821,  0.0272,  0.0298,  ...,  0.0562, -0.1302,  0.0434],\n",
      "         ...,\n",
      "         [-0.4358,  0.3769, -0.1707,  ...,  0.3138,  0.6127, -0.3990],\n",
      "         [-0.0761,  0.0092,  0.0544,  ...,  0.0791, -0.0893, -0.0014],\n",
      "         [-0.0720,  0.0275,  0.0481,  ...,  0.0695, -0.1040,  0.0042]]],\n",
      "       grad_fn=<CloneBackward0>)\n"
     ]
    }
   ],
   "source": [
    "# Set the layer and head to use for computation\n",
    "layer = 7\n",
    "head = 9\n",
    "\n",
    "# Compute the context vectors for each text in the corpus\n",
    "context_3 = [compute_output(t, layer, head) for t in text_2]\n",
    "print(context_3[0].shape)\n",
    "print(context_3[0])"
   ]
  },
  {
   "cell_type": "code",
   "execution_count": 19,
   "metadata": {},
   "outputs": [
    {
     "name": "stdout",
     "output_type": "stream",
     "text": [
      "Barcode for text 0:\n"
     ]
    },
    {
     "data": {
      "image/png": "[encoded data removed]",
      "text/plain": [
       "<Figure size 640x480 with 1 Axes>"
      ]
     },
     "metadata": {},
     "output_type": "display_data"
    }
   ],
   "source": [
    "# Compute the barcode diagrams for each context vector\n",
    "for i, output in enumerate(context_3):\n",
    "    print(f\"Barcode for text {i}:\")\n",
    "    compute_distances_and_plot_barcode(output)"
   ]
  },
  {
   "cell_type": "code",
   "execution_count": 20,
   "metadata": {},
   "outputs": [
    {
     "name": "stdout",
     "output_type": "stream",
     "text": [
      "Clusters for text 0:\n",
      "Cluster 0: [CLS], deep, learning, has, artificial, intelligence, ,, across, ., deep, learning, algorithms, ,, a, subset, machine, learning, ,, allow, vast, ., while, a, human, brain, naturally, ,, teaching, a, ., deep, learning, models, can, identify, and, human, decision, making, ,, which, makes, incredibly, valuable, for, ., for, instance, ,, in, the, healthcare, sector, ,, deep, learning, algorithms, are, being, utilized, for, patient, ., similarly, ,, in, the, field, autonomous, ,, deep, learning, plays, these, vehicles, understand, interact, their, ., by, ,, deep, learning, models, can, accurately, ,, thereby, ., moreover, ,, deep, learning, is, also, ., from, voice, sir, translation, ,, understand, interact, ., furthermore, ,, deep, learning, is, also, paving, image, video, processing, ., from, to, video, ,, deep, learning, algorithms, digital, ., [SEP]\n",
      "Cluster 1: innovative, solutions\n",
      "Cluster 2: various, industries\n",
      "Cluster 3: understand, learn\n",
      "Cluster 4: significant, achievement, in\n",
      "Cluster 5: the, realm\n",
      "Cluster 6: artificial, intelligence\n",
      "Cluster 7: -, like, capabilities\n",
      "Cluster 8: various, applications\n",
      "Cluster 9: early, detection\n",
      "Cluster 10: a, crucial, role, in\n",
      "Cluster 11: processing, and\n",
      "Cluster 12: amounts, data\n",
      "Cluster 13: and, respond\n",
      "Cluster 14: to, different\n",
      "Cluster 15: safety, efficiency\n",
      "Cluster 16: being, used\n",
      "Cluster 17: understand, and, generate\n",
      "Cluster 18: assistants, like\n",
      "Cluster 19: ##i, and, alexa\n",
      "Cluster 20: services, like\n",
      "Cluster 21: deep, learning\n",
      "Cluster 22: the, core\n",
      "Cluster 23: a, more\n",
      "Cluster 24: the, for\n",
      "Cluster 25: high, quality, visual, effects\n"
     ]
    }
   ],
   "source": [
    "def cluster_and_get_words(context, sentence, eps=0.9):\n",
    "    # Load pre-trained model tokenizer\n",
    "    tokenizer = BertTokenizer.from_pretrained('bert-base-uncased')\n",
    "\n",
    "    # Tokenize input and convert to tensor\n",
    "    inputs = tokenizer(sentence, return_tensors=\"pt\")\n",
    "    tokens = tokenizer.convert_ids_to_tokens(inputs['input_ids'][0])\n",
    "\n",
    "    # Squeeze the context tensor to remove the batch size dimension\n",
    "    context = context.squeeze(0)\n",
    "\n",
    "    # Compute the pairwise distance matrix\n",
    "    distances = pdist(context.detach().numpy(), 'euclidean')\n",
    "    dist_matrix = squareform(distances)\n",
    "\n",
    "    # Run DBSCAN on the distance matrix\n",
    "    clustering = DBSCAN(eps=eps, min_samples=2, metric='precomputed').fit(dist_matrix)\n",
    "\n",
    "    # Get the words corresponding to each cluster\n",
    "    clusters = {}\n",
    "    for i, label in enumerate(clustering.labels_):\n",
    "        if label != -1:  # Ignore noise (-1 label)\n",
    "            if label not in clusters:\n",
    "                clusters[label] = []\n",
    "            clusters[label].append(tokens[i])\n",
    "\n",
    "    return clusters\n",
    "\n",
    "# Compute the clusters for each context vector\n",
    "clusters_3 = []\n",
    "for i, output in enumerate(context_3):\n",
    "    print(f\"Clusters for text {i}:\")\n",
    "    clusters_3.append(cluster_and_get_words(output, text_2[i]))\n",
    "    for label, words in clusters_3[-1].items():\n",
    "        print(f\"Cluster {label}: {', '.join(words)}\")"
   ]
  },
  {
   "attachments": {},
   "cell_type": "markdown",
   "metadata": {},
   "source": [
    "The point that we would like to illustrate is that using persistent homology to perform inform the parameters of a density based clustering algorithm like DBSCAN provides us a way to use individual attention heads to extract collocations and keyphrases of a text. The fact that an individual attention head can be used to find collocations and keyphrases is really fascinating! It also provides us with a way to compare different heads linguistically, as some heads do this better than others, and some tend to find certain collocations and keyphrases better than other collocations and keyphrases. So, we could potentially use this to better train models, or select which heads to apply Low Rank Adaptations (LoRAs) in place of fine-tuning the entire model. In other words, if we train a LoRA to modify the behavior of individual attention heads so that they better detect certain collocations and keyphrases for different kinds of text corpora, we can get a more robust model overall. We might also use this to better find problematic knowledge that the model has learned and train this out of the model using a LoRA in place of fine tuning the entire model. We can test how each individual attention head behaves over a wide range of text corpora that is known to have certain kinds of problematic information in it, and deter the model from focusing on this kind of knowledge, treating its context vectors as \"noise\" (in terms of the DBSCAN). We can also use this to train models to detect problematic material in content. "
   ]
  },
  {
   "attachments": {},
   "cell_type": "markdown",
   "metadata": {},
   "source": [
    "## Using HDBSCAN Instead"
   ]
  },
  {
   "cell_type": "code",
   "execution_count": 25,
   "metadata": {},
   "outputs": [
    {
     "name": "stdout",
     "output_type": "stream",
     "text": [
      "Note: you may need to restart the kernel to use updated packages.\n"
     ]
    }
   ],
   "source": [
    "pip install hdbscan -q "
   ]
  },
  {
   "cell_type": "code",
   "execution_count": 52,
   "metadata": {},
   "outputs": [],
   "source": [
    "text_4 = [\"Deep learning has revolutionized the field of artificial intelligence, offering innovative solutions to complex problems across various industries. Deep learning algorithms, a subset of machine learning, allow computers to learn from vast amounts of data. While a human brain can naturally perform this task, teaching a computer to understand and learn from data is a significant achievement in the realm of artificial intelligence. Deep learning models can identify patterns and reproduce human-like decision-making capabilities, which makes them incredibly valuable for various applications. For instance, in the healthcare sector, deep learning algorithms are being utilized for early detection of diseases and patient care management. Similarly, in the field of autonomous vehicles, deep learning plays a crucial role in enabling these vehicles to understand and interact with their surroundings. By processing and learning from large amounts of data, deep learning models can accurately predict and respond to different situations, thereby ensuring safety and efficiency. Moreover, deep learning is also being used in natural language processing to understand and generate human language. From voice assistants like Siri and Alexa to translation services like Google Translate, deep learning is at the core of these services, enabling them to understand and interact with users in a more human-like manner. Furthermore, deep learning is also paving the way for advancements in the field of image and video processing.\"]"
   ]
  },
  {
   "cell_type": "code",
   "execution_count": 92,
   "metadata": {},
   "outputs": [
    {
     "name": "stderr",
     "output_type": "stream",
     "text": [
      "Some weights of the model checkpoint at bert-base-uncased were not used when initializing BertModel: ['cls.seq_relationship.weight', 'cls.predictions.transform.dense.weight', 'cls.predictions.transform.LayerNorm.weight', 'cls.seq_relationship.bias', 'cls.predictions.transform.dense.bias', 'cls.predictions.bias', 'cls.predictions.transform.LayerNorm.bias']\n",
      "- This IS expected if you are initializing BertModel from the checkpoint of a model trained on another task or with another architecture (e.g. initializing a BertForSequenceClassification model from a BertForPreTraining model).\n",
      "- This IS NOT expected if you are initializing BertModel from the checkpoint of a model that you expect to be exactly identical (initializing a BertForSequenceClassification model from a BertForSequenceClassification model).\n"
     ]
    },
    {
     "name": "stdout",
     "output_type": "stream",
     "text": [
      "torch.Size([1, 258, 64])\n",
      "tensor([[[-0.0805,  0.0164,  0.0324,  ...,  0.0591, -0.1297,  0.0259],\n",
      "         [-0.0701,  0.0367,  0.0277,  ...,  0.0409, -0.1388,  0.0631],\n",
      "         [-0.0817,  0.0250,  0.0257,  ...,  0.0529, -0.1333,  0.0461],\n",
      "         ...,\n",
      "         [-0.0218,  0.0986,  0.0277,  ..., -0.1014,  0.0594,  0.1266],\n",
      "         [-0.0743,  0.0256,  0.0395,  ..., -0.0997,  0.0795,  0.1204],\n",
      "         [-0.0724,  0.0307,  0.0372,  ...,  0.0605, -0.1080,  0.0115]]],\n",
      "       grad_fn=<CloneBackward0>)\n"
     ]
    }
   ],
   "source": [
    "import torch\n",
    "from transformers import BertTokenizer, BertModel\n",
    "\n",
    "def compute_output(sentence, layer, head):\n",
    "    # Load pre-trained model\n",
    "    model = BertModel.from_pretrained('bert-base-uncased', output_attentions=True)\n",
    "    tokenizer = BertTokenizer.from_pretrained('bert-base-uncased')\n",
    "\n",
    "    # Tokenize input and convert to tensor\n",
    "    inputs = tokenizer(sentence, return_tensors=\"pt\")\n",
    "\n",
    "    # Forward pass\n",
    "    # Specify `output_hidden_states=True` when calling the model\n",
    "    outputs = model(**inputs, output_hidden_states=True)\n",
    "\n",
    "    # Obtain the attention weights\n",
    "    attentions = outputs.attentions\n",
    "\n",
    "    # Obtain the attention weights for the specific layer and head\n",
    "    S = attentions[layer][0, head]\n",
    "\n",
    "    # Obtain the value vectors\n",
    "    model.eval()\n",
    "    with torch.no_grad():\n",
    "        hidden_states = outputs.hidden_states[layer]\n",
    "        all_W_v = model.encoder.layer[layer].attention.self.value.weight\n",
    "        num_heads = model.config.num_attention_heads\n",
    "        head_dim = model.config.hidden_size // num_heads\n",
    "        W_v_heads = all_W_v.view(num_heads, head_dim, model.config.hidden_size)\n",
    "        W_v = W_v_heads[head]\n",
    "        V = torch.matmul(hidden_states, W_v.t())\n",
    "\n",
    "    # Compute the output O\n",
    "    O = torch.matmul(S, V)\n",
    "\n",
    "    return O\n",
    "\n",
    "# Set the layer and head to use for computation\n",
    "layer = 7\n",
    "head = 9\n",
    "\n",
    "# Compute the context vectors for each text in the corpus\n",
    "context_4 = [compute_output(t, layer, head) for t in text_4]\n",
    "print(context_4[0].shape)\n",
    "print(context_4[0])"
   ]
  },
  {
   "cell_type": "code",
   "execution_count": 93,
   "metadata": {},
   "outputs": [
    {
     "data": {
      "text/plain": [
       "<Axes: >"
      ]
     },
     "execution_count": 93,
     "metadata": {},
     "output_type": "execute_result"
    },
    {
     "data": {
      "image/png": "[encoded data removed]",
      "text/plain": [
       "<Figure size 640x480 with 2 Axes>"
      ]
     },
     "metadata": {},
     "output_type": "display_data"
    }
   ],
   "source": [
    "import numpy as np\n",
    "import matplotlib.pyplot as plt\n",
    "import seaborn as sns\n",
    "import hdbscan\n",
    "%matplotlib inline\n",
    "\n",
    "sns.set_context('poster')\n",
    "sns.set_style('white')\n",
    "sns.set_color_codes()\n",
    "plot_kwds = {'alpha' : 0.5, 's' : 80, 'linewidths':0}\n",
    "\n",
    "# Take the first tensor from context_4, remove the first dimension, and convert to numpy array\n",
    "context_data = context_4[0].squeeze(0).detach().numpy()\n",
    "\n",
    "# Perform HDBSCAN clustering\n",
    "clusterer = hdbscan.HDBSCAN(min_cluster_size=2, gen_min_span_tree=True, cluster_selection_method='leaf')\n",
    "clusterer.fit(context_data)\n",
    "\n",
    "# Plot the minimum spanning tree\n",
    "clusterer.minimum_spanning_tree_.plot(edge_cmap='viridis',\n",
    "                                      edge_alpha=0.6,\n",
    "                                      node_size=50,\n",
    "                                      edge_linewidth=1)"
   ]
  },
  {
   "cell_type": "code",
   "execution_count": 94,
   "metadata": {},
   "outputs": [
    {
     "data": {
      "text/plain": [
       "<Axes: ylabel='distance'>"
      ]
     },
     "execution_count": 94,
     "metadata": {},
     "output_type": "execute_result"
    },
    {
     "data": {
      "image/png": "[encoded data removed]",
      "text/plain": [
       "<Figure size 640x480 with 2 Axes>"
      ]
     },
     "metadata": {},
     "output_type": "display_data"
    }
   ],
   "source": [
    "clusterer.single_linkage_tree_.plot(cmap='viridis', colorbar=True)"
   ]
  },
  {
   "cell_type": "code",
   "execution_count": 95,
   "metadata": {},
   "outputs": [
    {
     "data": {
      "text/plain": [
       "<Axes: ylabel='$\\\\lambda$ value'>"
      ]
     },
     "execution_count": 95,
     "metadata": {},
     "output_type": "execute_result"
    },
    {
     "data": {
      "image/png": "[encoded data removed]",
      "text/plain": [
       "<Figure size 640x480 with 2 Axes>"
      ]
     },
     "metadata": {},
     "output_type": "display_data"
    }
   ],
   "source": [
    "clusterer.condensed_tree_.plot()"
   ]
  },
  {
   "cell_type": "code",
   "execution_count": 96,
   "metadata": {},
   "outputs": [
    {
     "data": {
      "text/plain": [
       "<Axes: ylabel='$\\\\lambda$ value'>"
      ]
     },
     "execution_count": 96,
     "metadata": {},
     "output_type": "execute_result"
    },
    {
     "data": {
      "image/png": "[encoded data removed]",
      "text/plain": [
       "<Figure size 640x480 with 2 Axes>"
      ]
     },
     "metadata": {},
     "output_type": "display_data"
    }
   ],
   "source": [
    "clusterer.condensed_tree_.plot(select_clusters=True, selection_palette=sns.color_palette())"
   ]
  },
  {
   "cell_type": "code",
   "execution_count": 101,
   "metadata": {},
   "outputs": [
    {
     "data": {
      "text/plain": [
       "<matplotlib.collections.PathCollection at 0x7febdd6841f0>"
      ]
     },
     "execution_count": 101,
     "metadata": {},
     "output_type": "execute_result"
    },
    {
     "data": {
      "image/png": "[encoded data removed]",
      "text/plain": [
       "<Figure size 640x480 with 1 Axes>"
      ]
     },
     "metadata": {},
     "output_type": "display_data"
    }
   ],
   "source": [
    "num_clusters = max(clusterer.labels_) + 1\n",
    "palette = sns.color_palette(\"hls\", num_clusters)\n",
    "cluster_colors = [sns.desaturate(palette[col], sat)\n",
    "                  if col >= 0 else (0.5, 0.5, 0.5) for col, sat in\n",
    "                  zip(clusterer.labels_, clusterer.probabilities_)]\n",
    "plt.scatter(context_data.T[0], context_data.T[1], c=cluster_colors, **plot_kwds)"
   ]
  },
  {
   "cell_type": "code",
   "execution_count": 102,
   "metadata": {},
   "outputs": [
    {
     "data": {
      "image/png": "[encoded data removed]",
      "text/plain": [
       "<Figure size 640x480 with 1 Axes>"
      ]
     },
     "metadata": {},
     "output_type": "display_data"
    }
   ],
   "source": [
    "from mpl_toolkits.mplot3d import Axes3D\n",
    "\n",
    "fig = plt.figure()\n",
    "ax = fig.add_subplot(111, projection='3d')\n",
    "\n",
    "# Suppose the 3rd dimension is stored in context_data.T[2]\n",
    "ax.scatter(context_data.T[0], context_data.T[1], context_data.T[2], c=cluster_colors)\n",
    "\n",
    "ax.set_xlabel('X')\n",
    "ax.set_ylabel('Y')\n",
    "ax.set_zlabel('Z')\n",
    "\n",
    "plt.show()\n"
   ]
  },
  {
   "cell_type": "code",
   "execution_count": 103,
   "metadata": {},
   "outputs": [],
   "source": [
    "def get_clustered_tokens(labels, tokens):\n",
    "    clusters = {}\n",
    "    for token, label in zip(tokens, labels):\n",
    "        if label not in clusters:\n",
    "            clusters[label] = []\n",
    "        clusters[label].append(token)\n",
    "    return clusters\n"
   ]
  },
  {
   "cell_type": "code",
   "execution_count": 104,
   "metadata": {},
   "outputs": [
    {
     "name": "stdout",
     "output_type": "stream",
     "text": [
      "Cluster 15:\n",
      "deep, learning, has, revolution, offering, deep, learning, algorithms, ,, a, computers, while, a, human, brain, perform, teaching, a, significant, deep, learning, models, can, identify, reproduce, -, -, capabilities, which, makes, them, valuable, various, for, instance, ,, in, the, healthcare, sector, ,, deep, learning, algorithms, are, being, utilized, for, early, care, similarly, ,, in, the, deep, learning, a, surroundings, by, processing, deep, learning, models, can, accurately, thereby, ensuring, moreover, ,, deep, learning, is, also, being, from, voice, assistants, services, deep, furthermore, ,, deep, learning, is, also, paving, and, processing, .\n",
      "Cluster -1:\n",
      "##ized, the, field, of, artificial, intelligence, ,, innovative, solutions, to, various, industries, ., machine, ,, allow, to, learn, from, vast, amounts, data, can, naturally, this, task, ,, computer, to, understand, a, realm, artificial, patterns, and, human, incredibly, for, applications, ., detection, of, and, management, ., field, of, autonomous, vehicles, ,, plays, these, to, understand, interact, their, ., large, predict, and, respond, to, safety, and, efficiency, ., used, in, natural, language, processing, to, understand, and, generate, human, language, ., like, sir, ##i, translation, like, google, translate, ,, learning, is, at, the, core, of, enabling, them, to, understand, interact, users, in, a, the, ##s, in, the, field, of, image, video\n",
      "Cluster 0:\n",
      "complex, problems, across\n",
      "Cluster 16:\n",
      "subset, of, learning\n",
      "Cluster 4:\n",
      "of, ., is, amounts, of, data, ,\n",
      "Cluster 9:\n",
      "and, learn, from, data\n",
      "Cluster 13:\n",
      "achievement, in, the\n",
      "Cluster 12:\n",
      "of, intelligence, .\n",
      "Cluster 7:\n",
      "like, decision, making, ,\n",
      "Cluster 10:\n",
      "diseases, patient\n",
      "Cluster 8:\n",
      "crucial, role, in, enabling\n",
      "Cluster 14:\n",
      "vehicles, and, with, and, with\n",
      "Cluster 6:\n",
      "and, learning, from\n",
      "Cluster 3:\n",
      "different, situations, ,\n",
      "Cluster 5:\n",
      "and, alexa, to\n",
      "Cluster 1:\n",
      "these, services, ,\n",
      "Cluster 11:\n",
      "more, human, -, like, manner, .\n",
      "Cluster 2:\n",
      "way, for, advancement\n"
     ]
    }
   ],
   "source": [
    "from transformers import AutoTokenizer\n",
    "\n",
    "# initialize the tokenizer with the model you used\n",
    "tokenizer = BertTokenizer.from_pretrained('bert-base-uncased')\n",
    "\n",
    "# suppose `text` is the original text you passed to the model\n",
    "tokens = tokenizer.tokenize(text_4[0])\n",
    "\n",
    "# Now `tokens` is a list of tokens that corresponds to the context vectors\n",
    "\n",
    "# Suppose `labels` are the labels returned by HDBSCAN and `tokens` is a list of your original tokens\n",
    "clusters = get_clustered_tokens(clusterer.labels_, tokens)\n",
    "\n",
    "# Now you can print the tokens in each cluster\n",
    "for label, tokens in clusters.items():\n",
    "    print(f\"Cluster {label}:\")\n",
    "    print(\", \".join(tokens))\n"
   ]
  },
  {
   "cell_type": "code",
   "execution_count": null,
   "metadata": {},
   "outputs": [],
   "source": []
  }
 ],
 "metadata": {
  "kernelspec": {
   "display_name": "env_1",
   "language": "python",
   "name": "python3"
  },
  "language_info": {
   "codemirror_mode": {
    "name": "ipython",
    "version": 3
   },
   "file_extension": ".py",
   "mimetype": "text/x-python",
   "name": "python",
   "nbconvert_exporter": "python",
   "pygments_lexer": "ipython3",
   "version": "3.10.11"
  },
  "orig_nbformat": 4
 },
 "nbformat": 4,
 "nbformat_minor": 2
}
