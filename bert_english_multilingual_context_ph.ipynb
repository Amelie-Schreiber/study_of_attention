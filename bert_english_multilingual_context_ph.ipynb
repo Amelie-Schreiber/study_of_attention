{
 "cells": [
  {
   "cell_type": "code",
   "execution_count": 2,
   "metadata": {},
   "outputs": [
    {
     "name": "stdout",
     "output_type": "stream",
     "text": [
      "Note: you may need to restart the kernel to use updated packages.\n"
     ]
    }
   ],
   "source": [
    "pip install transformers torch numpy gudhi -q"
   ]
  },
  {
   "cell_type": "code",
   "execution_count": 3,
   "metadata": {},
   "outputs": [],
   "source": [
    "text = [\"In the early hours of the morning, after a hearty breakfast, the explorers set out on their journey. They made their way through thick and thin, forging a path through the dense forest under the clear blue sky. They hoped to catch sight of the elusive wildlife known to inhabit the area. Along the way, they encountered a steep hill. With a burst of energy, they climbed to the top and took in the breathtaking view. The landscape stretched out as far as the eye could see, from the rolling green hills to the deep blue sea. They took a few moments to savor the peace and tranquility before moving on. As the day drew to a close, they set up camp under the twinkling stars. They had a bite to eat, shared stories around the campfire, and then retired for the night, eager to see what adventures the next day would bring.\"]"
   ]
  },
  {
   "cell_type": "code",
   "execution_count": 4,
   "metadata": {},
   "outputs": [
    {
     "name": "stderr",
     "output_type": "stream",
     "text": [
      "Some weights of the model checkpoint at bert-base-multilingual-cased were not used when initializing BertModel: ['cls.predictions.transform.dense.weight', 'cls.seq_relationship.weight', 'cls.predictions.transform.dense.bias', 'cls.predictions.transform.LayerNorm.bias', 'cls.seq_relationship.bias', 'cls.predictions.transform.LayerNorm.weight', 'cls.predictions.bias']\n",
      "- This IS expected if you are initializing BertModel from the checkpoint of a model trained on another task or with another architecture (e.g. initializing a BertForSequenceClassification model from a BertForPreTraining model).\n",
      "- This IS NOT expected if you are initializing BertModel from the checkpoint of a model that you expect to be exactly identical (initializing a BertForSequenceClassification model from a BertForSequenceClassification model).\n"
     ]
    },
    {
     "name": "stdout",
     "output_type": "stream",
     "text": [
      "torch.Size([1, 196, 64])\n",
      "tensor([[[-0.0923,  0.2477,  0.5413,  ...,  0.2295,  0.3578, -0.6318],\n",
      "         [ 0.0310,  0.1182, -0.1479,  ...,  0.0303, -0.1661, -0.0217],\n",
      "         [ 0.5197,  0.1623, -0.2022,  ...,  0.0566, -0.1742,  0.0434],\n",
      "         ...,\n",
      "         [-0.4298, -0.4120,  0.2597,  ...,  0.3665,  0.7596, -0.5275],\n",
      "         [-0.6313, -0.4525,  0.4775,  ...,  0.1927, -0.2554,  0.5142],\n",
      "         [ 0.6103,  0.1603,  0.3333,  ...,  0.3885,  0.5659, -1.1016]]],\n",
      "       grad_fn=<CloneBackward0>)\n"
     ]
    }
   ],
   "source": [
    "import torch\n",
    "from transformers import BertTokenizer, BertModel\n",
    "from transformers import BertModel, BertTokenizerFast\n",
    "from transformers import AutoTokenizer, AutoModel\n",
    "\n",
    "\n",
    "def compute_output(sentence, layer, head):\n",
    "    # Load pre-trained model\n",
    "    model = BertModel.from_pretrained('bert-base-multilingual-cased', output_attentions=True)\n",
    "    tokenizer = BertTokenizer.from_pretrained('bert-base-multilingual-cased')\n",
    "\n",
    "\n",
    "    # Tokenize input and convert to tensor\n",
    "    inputs = tokenizer(sentence, return_tensors=\"pt\")\n",
    "\n",
    "    # Forward pass\n",
    "    # Specify `output_hidden_states=True` when calling the model\n",
    "    outputs = model(**inputs, output_attentions=True, output_hidden_states=True)\n",
    "\n",
    "    # Obtain the attention weights\n",
    "    attentions = outputs.attentions\n",
    "\n",
    "    # Obtain the attention weights for the specific layer and head\n",
    "    S = attentions[layer][0, head]\n",
    "\n",
    "    # Obtain the value vectors\n",
    "    model.eval()\n",
    "    with torch.no_grad():\n",
    "        hidden_states = outputs.hidden_states[layer]\n",
    "        all_W_v = model.encoder.layer[layer].attention.self.value.weight\n",
    "        num_heads = model.config.num_attention_heads\n",
    "        head_dim = model.config.hidden_size // num_heads\n",
    "        W_v_heads = all_W_v.view(num_heads, head_dim, model.config.hidden_size)\n",
    "        W_v = W_v_heads[head]\n",
    "        V = torch.matmul(hidden_states, W_v.t())\n",
    "\n",
    "    # Compute the output O\n",
    "    O = torch.matmul(S, V)\n",
    "\n",
    "    return O\n",
    "\n",
    "# Set the layer and head to use for computation\n",
    "layer = 5\n",
    "head = 10\n",
    "\n",
    "# Compute the context vectors for each text in the corpus\n",
    "context = [compute_output(t, layer, head) for t in text]\n",
    "print(context[0].shape)\n",
    "print(context[0])"
   ]
  },
  {
   "cell_type": "code",
   "execution_count": 5,
   "metadata": {},
   "outputs": [
    {
     "name": "stdout",
     "output_type": "stream",
     "text": [
      "Barcode for text 0:\n"
     ]
    },
    {
     "data": {
      "image/png": "[encoded data removed]",
      "text/plain": [
       "<Figure size 640x480 with 1 Axes>"
      ]
     },
     "metadata": {},
     "output_type": "display_data"
    }
   ],
   "source": [
    "import matplotlib.pyplot as plt\n",
    "import numpy as np\n",
    "from scipy.spatial import distance_matrix\n",
    "import gudhi as gd\n",
    "\n",
    "def compute_distances_and_plot_barcode(output):\n",
    "    # Detach the output tensor, squeeze, and convert to numpy array\n",
    "    output_np = output.squeeze().detach().numpy()\n",
    "\n",
    "    # Compute the pairwise Euclidean distance matrix\n",
    "    distances = distance_matrix(output_np, output_np)\n",
    "\n",
    "    # Compute the persistent homology of the distance matrix\n",
    "    rips_complex = gd.RipsComplex(distance_matrix=distances, max_edge_length=np.max(distances))\n",
    "    simplex_tree = rips_complex.create_simplex_tree(max_dimension=2)\n",
    "    persistent_homology = simplex_tree.persistence(min_persistence=0.001)\n",
    "    \n",
    "    # Plot the barcode diagram\n",
    "    gd.plot_persistence_barcode(persistence=persistent_homology)\n",
    "    plt.show()\n",
    "\n",
    "# Compute the barcode diagrams for each context vector\n",
    "for i, output in enumerate(context):\n",
    "    print(f\"Barcode for text {i}:\")\n",
    "    compute_distances_and_plot_barcode(output)"
   ]
  },
  {
   "cell_type": "code",
   "execution_count": 6,
   "metadata": {},
   "outputs": [
    {
     "name": "stdout",
     "output_type": "stream",
     "text": [
      "Clusters for text 0:\n",
      "Cluster 0: [CLS], In, They, under, ., They, known, ., Along, With, The, to, ., They, As, ., They, [SEP]\n",
      "Cluster 1: ,, ,\n",
      "Cluster 2: a, a\n",
      "Cluster 3: heart, steep, bu\n",
      "Cluster 4: explorer, landscape, eye\n",
      "Cluster 5: on, as\n",
      "Cluster 6: journey, way\n",
      "Cluster 7: made, hoped, encountered, climb, took, set, had\n",
      "Cluster 8: and, ,\n",
      "Cluster 9: the, the, the\n",
      "Cluster 10: dense, clear, elu, twin, camp\n",
      "Cluster 11: forest, blue\n",
      "Cluster 12: catch, in\n",
      "Cluster 13: area, way\n",
      "Cluster 14: they, they\n",
      "Cluster 15: ##ed, to, ##ed, out\n",
      "Cluster 16: took, then, retired\n",
      "Cluster 17: br, rolling, deep\n",
      "Cluster 18: green, hills, sea\n",
      "Cluster 19: peace, day\n",
      "Cluster 20: to, a\n",
      "Cluster 21: close, bit\n",
      "Cluster 22: eat, see\n"
     ]
    }
   ],
   "source": [
    "from scipy.spatial.distance import pdist, squareform\n",
    "from sklearn.cluster import DBSCAN\n",
    "from transformers import BertTokenizer\n",
    "from transformers import BertModel, BertTokenizerFast\n",
    "\n",
    "def cluster_and_get_words(context, sentence, eps=2.9):\n",
    "    # Load pre-trained model tokenizer\n",
    "    tokenizer = BertTokenizer.from_pretrained('bert-base-multilingual-cased')\n",
    "\n",
    "\n",
    "    # Tokenize input and convert to tensor\n",
    "    inputs = tokenizer(sentence, return_tensors=\"pt\")\n",
    "    tokens = tokenizer.convert_ids_to_tokens(inputs['input_ids'][0])\n",
    "\n",
    "    # Squeeze the context tensor to remove the batch size dimension\n",
    "    context = context.squeeze(0)\n",
    "\n",
    "    # Compute the pairwise distance matrix\n",
    "    distances = pdist(context.detach().numpy(), 'euclidean')\n",
    "    dist_matrix = squareform(distances)\n",
    "\n",
    "    # Run DBSCAN on the distance matrix\n",
    "    clustering = DBSCAN(eps=eps, min_samples=2, metric='precomputed').fit(dist_matrix)\n",
    "\n",
    "    # Get the words corresponding to each cluster\n",
    "    clusters = {}\n",
    "    for i, label in enumerate(clustering.labels_):\n",
    "        if label != -1:  # Ignore noise (-1 label)\n",
    "            if label not in clusters:\n",
    "                clusters[label] = []\n",
    "            clusters[label].append(tokens[i])\n",
    "\n",
    "    return clusters\n",
    "\n",
    "# Compute the clusters for each context vector\n",
    "clusters = []\n",
    "for i, output in enumerate(context):\n",
    "    print(f\"Clusters for text {i}:\")\n",
    "    clusters.append(cluster_and_get_words(output, text[i]))\n",
    "    for label, words in clusters[-1].items():\n",
    "        print(f\"Cluster {label}: {', '.join(words)}\")"
   ]
  },
  {
   "cell_type": "code",
   "execution_count": 7,
   "metadata": {},
   "outputs": [
    {
     "name": "stdout",
     "output_type": "stream",
     "text": [
      "Tokens of the sub-collection: ['deep', 'blue', 'sea']\n",
      "Distance matrix: (3, 3)\n",
      "Distance matrix: [[0.         4.24822667 4.97206333]\n",
      " [4.24822667 0.         4.0855846 ]\n",
      " [4.97206333 4.0855846  0.        ]]\n"
     ]
    },
    {
     "data": {
      "image/png": "[encoded data removed]",
      "text/plain": [
       "<Figure size 640x480 with 1 Axes>"
      ]
     },
     "metadata": {},
     "output_type": "display_data"
    },
    {
     "data": {
      "text/plain": [
       "[(0, (0.0, inf)), (0, (0.0, 4.248226669515188)), (0, (0.0, 4.085584595074806))]"
      ]
     },
     "execution_count": 7,
     "metadata": {},
     "output_type": "execute_result"
    }
   ],
   "source": [
    "from scipy.spatial import distance_matrix\n",
    "import gudhi as gd\n",
    "import numpy as np\n",
    "import matplotlib.pyplot as plt\n",
    "from transformers import BertTokenizer\n",
    "\n",
    "def compute_phrase_distances_and_homology(context_vectors, sentence, phrase):\n",
    "    # Initialize the tokenizer\n",
    "    tokenizer = BertTokenizer.from_pretrained('bert-base-multilingual-cased')\n",
    "\n",
    "    # Tokenize the sentence and the phrase\n",
    "    sentence_tokens = tokenizer.encode(sentence, add_special_tokens=False)\n",
    "    phrase_tokens = tokenizer.encode(phrase, add_special_tokens=False)\n",
    "\n",
    "    # Find the indices of the phrase tokens in the sentence\n",
    "    phrase_indices = []\n",
    "    phrase_length = len(phrase_tokens)\n",
    "    for i in range(len(sentence_tokens) - phrase_length + 1):\n",
    "        if sentence_tokens[i:i+phrase_length] == phrase_tokens:\n",
    "            phrase_indices.extend(range(i, i+phrase_length))\n",
    "            break\n",
    "\n",
    "    # Extract the context vectors for the phrase\n",
    "    phrase_context_vectors = context_vectors[0, phrase_indices]\n",
    "\n",
    "    # Detach the tensor and convert to numpy array\n",
    "    phrase_context_vectors_np = phrase_context_vectors.detach().numpy()\n",
    "\n",
    "    # Print the tokens of the sub-collection and their context vectors\n",
    "    print(f'Tokens of the sub-collection: {tokenizer.convert_ids_to_tokens(phrase_tokens)}')\n",
    "    # print(f'Context vectors of the sub-collection: {phrase_context_vectors_np}')\n",
    "\n",
    "    # Compute the pairwise Euclidean distances among the phrase context vectors\n",
    "    distances = distance_matrix(phrase_context_vectors_np, phrase_context_vectors_np)\n",
    "\n",
    "    # Print the distance matrix\n",
    "    print(f'Distance matrix: {distances.shape}')\n",
    "    print(f'Distance matrix: {distances}')\n",
    "\n",
    "    # Compute the persistent homology of the distance matrix\n",
    "    rips_complex = gd.RipsComplex(distance_matrix=distances, max_edge_length=np.max(distances))\n",
    "    simplex_tree = rips_complex.create_simplex_tree(max_dimension=2)\n",
    "    persistent_homology = simplex_tree.persistence(min_persistence=0.001)\n",
    "\n",
    "    # Plot the barcode diagram\n",
    "    gd.plot_persistence_barcode(persistence=persistent_homology)\n",
    "    plt.show()\n",
    "\n",
    "    return persistent_homology\n",
    "\n",
    "# Assuming that 'context_vectors' is the tensor of context vectors for your sentence,\n",
    "# and 'sentence' is your original sentence, you can use the function like this:\n",
    "compute_phrase_distances_and_homology(context[0], text[0], \"deep blue sea\")"
   ]
  },
  {
   "cell_type": "code",
   "execution_count": 8,
   "metadata": {},
   "outputs": [],
   "source": [
    "text_2 = [\"Late in the afternoon, a group of friends decided to embark on a fishing trip. They had been through thick and thin together and shared a common love for the great outdoors. After packing their gear and provisions, they hopped into their old but reliable boat and set off towards the deep blue sea. The day was perfect for fishing, with a cloudless sky and a gentle breeze. They spent hours casting their lines, chatting, and enjoying the serenity of the open water. As the sun began to set, they found a quiet spot to anchor for the night. Beneath the stunning canvas of stars, they prepared a simple meal, swapping tales and laughing at old memories. The quiet lapping of the waves against the boat lulled and the clear blue sky them into a peaceful sleep, their dreams filled with the anticipation of the following day's catch.\"]"
   ]
  },
  {
   "cell_type": "code",
   "execution_count": 9,
   "metadata": {},
   "outputs": [
    {
     "name": "stderr",
     "output_type": "stream",
     "text": [
      "Some weights of the model checkpoint at bert-base-multilingual-cased were not used when initializing BertModel: ['cls.predictions.transform.dense.weight', 'cls.seq_relationship.weight', 'cls.predictions.transform.dense.bias', 'cls.predictions.transform.LayerNorm.bias', 'cls.seq_relationship.bias', 'cls.predictions.transform.LayerNorm.weight', 'cls.predictions.bias']\n",
      "- This IS expected if you are initializing BertModel from the checkpoint of a model trained on another task or with another architecture (e.g. initializing a BertForSequenceClassification model from a BertForPreTraining model).\n",
      "- This IS NOT expected if you are initializing BertModel from the checkpoint of a model that you expect to be exactly identical (initializing a BertForSequenceClassification model from a BertForSequenceClassification model).\n"
     ]
    },
    {
     "name": "stdout",
     "output_type": "stream",
     "text": [
      "Tokens of the sub-collection: ['deep', 'blue', 'sea']\n",
      "Distance matrix: (3, 3)\n",
      "Distance matrix: [[0.         3.06939961 3.59085339]\n",
      " [3.06939961 0.         3.71056805]\n",
      " [3.59085339 3.71056805 0.        ]]\n"
     ]
    },
    {
     "data": {
      "image/png": "[encoded data removed]",
      "text/plain": [
       "<Figure size 640x480 with 1 Axes>"
      ]
     },
     "metadata": {},
     "output_type": "display_data"
    },
    {
     "data": {
      "text/plain": [
       "[(0, (0.0, inf)), (0, (0.0, 3.590853389466794)), (0, (0.0, 3.069399609951745))]"
      ]
     },
     "execution_count": 9,
     "metadata": {},
     "output_type": "execute_result"
    }
   ],
   "source": [
    "context_2 = [compute_output(t, layer, head) for t in text_2]\n",
    "compute_phrase_distances_and_homology(context_2[0], text_2[0], \"deep blue sea\")"
   ]
  },
  {
   "cell_type": "code",
   "execution_count": 10,
   "metadata": {},
   "outputs": [
    {
     "name": "stdout",
     "output_type": "stream",
     "text": [
      "Tokens of the sub-collection: ['deep', 'blue', 'sea']\n",
      "Distance matrix: (3, 3)\n",
      "Distance matrix: [[0.         4.24822667 4.97206333]\n",
      " [4.24822667 0.         4.0855846 ]\n",
      " [4.97206333 4.0855846  0.        ]]\n"
     ]
    },
    {
     "data": {
      "image/png": "[encoded data removed]",
      "text/plain": [
       "<Figure size 640x480 with 1 Axes>"
      ]
     },
     "metadata": {},
     "output_type": "display_data"
    },
    {
     "name": "stdout",
     "output_type": "stream",
     "text": [
      "Tokens of the sub-collection: ['deep', 'blue', 'sea']\n",
      "Distance matrix: (3, 3)\n",
      "Distance matrix: [[0.         3.06939961 3.59085339]\n",
      " [3.06939961 0.         3.71056805]\n",
      " [3.59085339 3.71056805 0.        ]]\n"
     ]
    },
    {
     "data": {
      "image/png": "[encoded data removed]",
      "text/plain": [
       "<Figure size 640x480 with 1 Axes>"
      ]
     },
     "metadata": {},
     "output_type": "display_data"
    },
    {
     "name": "stdout",
     "output_type": "stream",
     "text": [
      "Bottleneck distance: 1.0161849851230613\n",
      "Wasserstein distance: = 1.67\n"
     ]
    }
   ],
   "source": [
    "# from gudhi.wasserstein import wasserstein_distance \n",
    "# Could also be: \n",
    "from gudhi.hera import wasserstein_distance\n",
    "import numpy as np\n",
    "\n",
    "# Compute the persistent homology\n",
    "persistent_homology_1 = compute_phrase_distances_and_homology(context[0], text[0], \"deep blue sea\")\n",
    "persistent_homology_2 = compute_phrase_distances_and_homology(context_2[0], text_2[0], \"deep blue sea\")\n",
    "\n",
    "# Convert the persistent homology data to a numpy array\n",
    "persistent_homology_np_1 = np.array([[pt[1][0], pt[1][1]] for pt in persistent_homology_1 if pt[1][1] != float('inf')])\n",
    "persistent_homology_np_2 = np.array([[pt[1][0], pt[1][1]] for pt in persistent_homology_2 if pt[1][1] != float('inf')])\n",
    "\n",
    "# Compute and print the bottleneck distance\n",
    "bottleneck_dist = gd.bottleneck_distance(persistent_homology_np_1, persistent_homology_np_2)\n",
    "print(f\"Bottleneck distance: {bottleneck_dist}\")\n",
    "\n",
    "# Compute and print the Wasserstein distance\n",
    "print(f\"Wasserstein distance: = {wasserstein_distance(persistent_homology_np_1, persistent_homology_np_2, order=1., internal_p=2.):.2f}\")"
   ]
  },
  {
   "cell_type": "code",
   "execution_count": 12,
   "metadata": {},
   "outputs": [
    {
     "name": "stdout",
     "output_type": "stream",
     "text": [
      "Tokens of the sub-collection: ['clear', 'blue', 'sky']\n",
      "Distance matrix: (3, 3)\n",
      "Distance matrix: [[0.         3.60248439 4.46267106]\n",
      " [3.60248439 0.         4.05701827]\n",
      " [4.46267106 4.05701827 0.        ]]\n"
     ]
    },
    {
     "data": {
      "image/png": "[encoded data removed]",
      "text/plain": [
       "<Figure size 640x480 with 1 Axes>"
      ]
     },
     "metadata": {},
     "output_type": "display_data"
    },
    {
     "name": "stdout",
     "output_type": "stream",
     "text": [
      "Tokens of the sub-collection: ['clear', 'blue', 'sky']\n",
      "Distance matrix: (3, 3)\n",
      "Distance matrix: [[0.         3.58491433 5.01999108]\n",
      " [3.58491433 0.         4.46236363]\n",
      " [5.01999108 4.46236363 0.        ]]\n"
     ]
    },
    {
     "data": {
      "image/png": "[encoded data removed]",
      "text/plain": [
       "<Figure size 640x480 with 1 Axes>"
      ]
     },
     "metadata": {},
     "output_type": "display_data"
    },
    {
     "name": "stdout",
     "output_type": "stream",
     "text": [
      "Bottleneck distance: 0.40534536101047536\n",
      "Wasserstein distance: = 0.42\n"
     ]
    }
   ],
   "source": [
    "from gudhi.hera import wasserstein_distance\n",
    "import numpy as np\n",
    "\n",
    "# Compute the persistent homology\n",
    "persistent_homology_1 = compute_phrase_distances_and_homology(context[0], text[0], \"clear blue sky\")\n",
    "persistent_homology_2 = compute_phrase_distances_and_homology(context_2[0], text_2[0], \"clear blue sky\")\n",
    "\n",
    "# Convert the persistent homology data to a numpy array\n",
    "persistent_homology_np_1 = np.array([[pt[1][0], pt[1][1]] for pt in persistent_homology_1 if pt[1][1] != float('inf')])\n",
    "persistent_homology_np_2 = np.array([[pt[1][0], pt[1][1]] for pt in persistent_homology_2 if pt[1][1] != float('inf')])\n",
    "\n",
    "# Compute and print the bottleneck distance\n",
    "bottleneck_dist = gd.bottleneck_distance(persistent_homology_np_1, persistent_homology_np_2)\n",
    "print(f\"Bottleneck distance: {bottleneck_dist}\")\n",
    "\n",
    "# Compute and print the Wasserstein distance\n",
    "print(f\"Wasserstein distance: = {wasserstein_distance(persistent_homology_np_1, persistent_homology_np_2, order=1., internal_p=2.):.2f}\")"
   ]
  },
  {
   "attachments": {},
   "cell_type": "markdown",
   "metadata": {},
   "source": [
    "---\n",
    "\n",
    "## Hight Overlap in Number of Collocations and Multiword Expressions\n",
    "\n"
   ]
  },
  {
   "cell_type": "code",
   "execution_count": 14,
   "metadata": {},
   "outputs": [],
   "source": [
    "text_3 = [\"The basketball team from our local high school was at the top of their game. They had a habit of pulling rabbits out of hats during every match, turning the tide at the last minute. Their coach, an old hand at the game, had a keen eye for detail and an ability to whip the team into shape. He was a firm believer in the saying, there's no 'I' in 'team'. The star player, an all-rounder, had the knack for scoring points in the nick of time. The spectators, holding their breath in anticipation, would often break into applause at the sight of the home team's stellar performance.\"]\n",
    "\n",
    "text_4 = [\"The software development team at our company was at the top of their game. They had a habit of pulling rabbits out of hats during every project, turning the tide at the last minute. Their manager, an old hand at programming, had a keen eye for detail and an ability to whip the team into shape. He was a firm believer in the saying, there's no 'I' in 'team'. The lead developer, an all-rounder, had the knack for solving problems in the nick of time. The clients, holding their breath in anticipation, would often break into applause at the sight of the team's stellar performance.\"]"
   ]
  },
  {
   "cell_type": "code",
   "execution_count": 15,
   "metadata": {},
   "outputs": [
    {
     "name": "stderr",
     "output_type": "stream",
     "text": [
      "Some weights of the model checkpoint at bert-base-multilingual-cased were not used when initializing BertModel: ['cls.predictions.transform.dense.weight', 'cls.seq_relationship.weight', 'cls.predictions.transform.dense.bias', 'cls.predictions.transform.LayerNorm.bias', 'cls.seq_relationship.bias', 'cls.predictions.transform.LayerNorm.weight', 'cls.predictions.bias']\n",
      "- This IS expected if you are initializing BertModel from the checkpoint of a model trained on another task or with another architecture (e.g. initializing a BertForSequenceClassification model from a BertForPreTraining model).\n",
      "- This IS NOT expected if you are initializing BertModel from the checkpoint of a model that you expect to be exactly identical (initializing a BertForSequenceClassification model from a BertForSequenceClassification model).\n",
      "Some weights of the model checkpoint at bert-base-multilingual-cased were not used when initializing BertModel: ['cls.predictions.transform.dense.weight', 'cls.seq_relationship.weight', 'cls.predictions.transform.dense.bias', 'cls.predictions.transform.LayerNorm.bias', 'cls.seq_relationship.bias', 'cls.predictions.transform.LayerNorm.weight', 'cls.predictions.bias']\n",
      "- This IS expected if you are initializing BertModel from the checkpoint of a model trained on another task or with another architecture (e.g. initializing a BertForSequenceClassification model from a BertForPreTraining model).\n",
      "- This IS NOT expected if you are initializing BertModel from the checkpoint of a model that you expect to be exactly identical (initializing a BertForSequenceClassification model from a BertForSequenceClassification model).\n"
     ]
    }
   ],
   "source": [
    "context_3 = [compute_output(t, layer, head) for t in text_3]\n",
    "\n",
    "context_4 = [compute_output(t, layer, head) for t in text_4]\n"
   ]
  },
  {
   "cell_type": "code",
   "execution_count": 17,
   "metadata": {},
   "outputs": [
    {
     "name": "stdout",
     "output_type": "stream",
     "text": [
      "Tokens of the sub-collection: ['at', 'the', 'top', 'of', 'their', 'game']\n",
      "Distance matrix: (6, 6)\n",
      "Distance matrix: [[0.         4.5519216  5.07674559 4.090844   4.45459264 4.73550748]\n",
      " [4.5519216  0.         4.2005264  4.12368112 4.5673324  4.71882156]\n",
      " [5.07674559 4.2005264  0.         3.26007548 3.82003928 3.67324575]\n",
      " [4.090844   4.12368112 3.26007548 0.         3.48294414 3.45943462]\n",
      " [4.45459264 4.5673324  3.82003928 3.48294414 0.         3.33041746]\n",
      " [4.73550748 4.71882156 3.67324575 3.45943462 3.33041746 0.        ]]\n"
     ]
    },
    {
     "data": {
      "image/png": "[encoded data removed]",
      "text/plain": [
       "<Figure size 640x480 with 1 Axes>"
      ]
     },
     "metadata": {},
     "output_type": "display_data"
    },
    {
     "name": "stdout",
     "output_type": "stream",
     "text": [
      "Tokens of the sub-collection: ['at', 'the', 'top', 'of', 'their', 'game']\n",
      "Distance matrix: (6, 6)\n",
      "Distance matrix: [[0.         3.52214229 4.1396789  3.74264675 4.24268601 4.45249277]\n",
      " [3.52214229 0.         4.06464231 4.10791219 4.44864495 4.64166736]\n",
      " [4.1396789  4.06464231 0.         3.2259207  3.78160177 3.53976378]\n",
      " [3.74264675 4.10791219 3.2259207  0.         3.49416897 3.53242126]\n",
      " [4.24268601 4.44864495 3.78160177 3.49416897 0.         3.18891933]\n",
      " [4.45249277 4.64166736 3.53976378 3.53242126 3.18891933 0.        ]]\n"
     ]
    },
    {
     "data": {
      "image/png": "[encoded data removed]",
      "text/plain": [
       "<Figure size 640x480 with 1 Axes>"
      ]
     },
     "metadata": {},
     "output_type": "display_data"
    },
    {
     "name": "stdout",
     "output_type": "stream",
     "text": [
      "Bottleneck distance: 0.5687017132861394\n",
      "Wasserstein distance: = 1.19\n"
     ]
    }
   ],
   "source": [
    "# Compute the persistent homology\n",
    "persistent_homology_1 = compute_phrase_distances_and_homology(context_3[0], text_3[0], \"at the top of their game\")\n",
    "persistent_homology_2 = compute_phrase_distances_and_homology(context_4[0], text_4[0], \"at the top of their game\")\n",
    "\n",
    "# Convert the persistent homology data to a numpy array\n",
    "persistent_homology_np_1 = np.array([[pt[1][0], pt[1][1]] for pt in persistent_homology_1 if pt[1][1] != float('inf')])\n",
    "persistent_homology_np_2 = np.array([[pt[1][0], pt[1][1]] for pt in persistent_homology_2 if pt[1][1] != float('inf')])\n",
    "\n",
    "# Compute and print the bottleneck distance\n",
    "bottleneck_dist = gd.bottleneck_distance(persistent_homology_np_1, persistent_homology_np_2)\n",
    "print(f\"Bottleneck distance: {bottleneck_dist}\")\n",
    "\n",
    "# Compute and print the Wasserstein distance\n",
    "print(f\"Wasserstein distance: = {wasserstein_distance(persistent_homology_np_1, persistent_homology_np_2, order=1., internal_p=2.):.2f}\")"
   ]
  },
  {
   "cell_type": "code",
   "execution_count": 19,
   "metadata": {},
   "outputs": [
    {
     "name": "stdout",
     "output_type": "stream",
     "text": [
      "Tokens of the sub-collection: ['pull', '##ing', 'ra', '##bbit', '##s', 'out', 'of', 'hat', '##s']\n",
      "Distance matrix: (9, 9)\n",
      "Distance matrix: [[0.         4.72383353 4.85660169 4.74318494 5.23545798 5.04373953\n",
      "  4.42144674 5.07400467 5.61402085]\n",
      " [4.72383353 0.         4.48696686 3.27475535 4.32025487 4.9949809\n",
      "  4.47708277 4.78384526 3.66628614]\n",
      " [4.85660169 4.48696686 0.         3.53794282 4.23556749 4.83444344\n",
      "  4.51225283 4.04059877 4.47307827]\n",
      " [4.74318494 3.27475535 3.53794282 0.         3.65225279 4.50848573\n",
      "  3.89441279 4.04094824 3.56524259]\n",
      " [5.23545798 4.32025487 4.23556749 3.65225279 0.         3.51901647\n",
      "  3.93716858 4.50803524 4.38249311]\n",
      " [5.04373953 4.9949809  4.83444344 4.50848573 3.51901647 0.\n",
      "  3.423678   5.09147729 5.19862119]\n",
      " [4.42144674 4.47708277 4.51225283 3.89441279 3.93716858 3.423678\n",
      "  0.         3.71513297 4.47100804]\n",
      " [5.07400467 4.78384526 4.04059877 4.04094824 4.50803524 5.09147729\n",
      "  3.71513297 0.         3.84516807]\n",
      " [5.61402085 3.66628614 4.47307827 3.56524259 4.38249311 5.19862119\n",
      "  4.47100804 3.84516807 0.        ]]\n"
     ]
    },
    {
     "data": {
      "image/png": "[encoded data removed]",
      "text/plain": [
       "<Figure size 640x480 with 1 Axes>"
      ]
     },
     "metadata": {},
     "output_type": "display_data"
    },
    {
     "name": "stdout",
     "output_type": "stream",
     "text": [
      "Tokens of the sub-collection: ['pull', '##ing', 'ra', '##bbit', '##s', 'out', 'of', 'hat', '##s']\n",
      "Distance matrix: (9, 9)\n",
      "Distance matrix: [[0.         4.76317434 4.74369714 4.76382067 5.17779399 4.95980071\n",
      "  4.43091918 5.04178188 5.60520837]\n",
      " [4.76317434 0.         4.51998172 3.37047986 4.36056423 4.92424824\n",
      "  4.48781234 4.84642551 3.78891123]\n",
      " [4.74369714 4.51998172 0.         3.60844406 4.34916078 4.68629344\n",
      "  4.52545569 3.99416228 4.54620391]\n",
      " [4.76382067 3.37047986 3.60844406 0.         3.77080078 4.40369613\n",
      "  3.86177188 4.0298273  3.53287728]\n",
      " [5.17779399 4.36056423 4.34916078 3.77080078 0.         3.29539279\n",
      "  3.94870803 4.54119544 4.3923625 ]\n",
      " [4.95980071 4.92424824 4.68629344 4.40369613 3.29539279 0.\n",
      "  3.30414367 4.88375101 5.00579175]\n",
      " [4.43091918 4.48781234 4.52545569 3.86177188 3.94870803 3.30414367\n",
      "  0.         3.82618227 4.43706577]\n",
      " [5.04178188 4.84642551 3.99416228 4.0298273  4.54119544 4.88375101\n",
      "  3.82618227 0.         3.84128569]\n",
      " [5.60520837 3.78891123 4.54620391 3.53287728 4.3923625  5.00579175\n",
      "  4.43706577 3.84128569 0.        ]]\n"
     ]
    },
    {
     "data": {
      "image/png": "[encoded data removed]",
      "text/plain": [
       "<Figure size 640x480 with 1 Axes>"
      ]
     },
     "metadata": {},
     "output_type": "display_data"
    },
    {
     "name": "stdout",
     "output_type": "stream",
     "text": [
      "Bottleneck distance: 0.14853661748336355\n",
      "Wasserstein distance: = 0.65\n"
     ]
    }
   ],
   "source": [
    "# Compute the persistent homology\n",
    "persistent_homology_1 = compute_phrase_distances_and_homology(context_3[0], text_3[0], \"pulling rabbits out of hats\")\n",
    "persistent_homology_2 = compute_phrase_distances_and_homology(context_4[0], text_4[0], \"pulling rabbits out of hats\")\n",
    "\n",
    "# Convert the persistent homology data to a numpy array\n",
    "persistent_homology_np_1 = np.array([[pt[1][0], pt[1][1]] for pt in persistent_homology_1 if pt[1][1] != float('inf')])\n",
    "persistent_homology_np_2 = np.array([[pt[1][0], pt[1][1]] for pt in persistent_homology_2 if pt[1][1] != float('inf')])\n",
    "\n",
    "# Compute and print the bottleneck distance\n",
    "bottleneck_dist = gd.bottleneck_distance(persistent_homology_np_1, persistent_homology_np_2)\n",
    "print(f\"Bottleneck distance: {bottleneck_dist}\")\n",
    "\n",
    "# Compute and print the Wasserstein distance\n",
    "print(f\"Wasserstein distance: = {wasserstein_distance(persistent_homology_np_1, persistent_homology_np_2, order=1., internal_p=2.):.2f}\")"
   ]
  },
  {
   "attachments": {},
   "cell_type": "markdown",
   "metadata": {},
   "source": [
    "---\n",
    "\n",
    "## Low Overlap in Collocations and Multiword Expressions"
   ]
  },
  {
   "cell_type": "code",
   "execution_count": 20,
   "metadata": {},
   "outputs": [],
   "source": [
    "text_5 = [\"In the heart of the bustling city, a small magic shop drew the attention of passersby with its unusual window displays. The owner, a retired magician, was famous for his ability to keep pulling rabbits out of hats, no matter how many times he had seemingly emptied them. His shop was a treasure trove of mysterious artifacts, enchanted props, and old books filled with forgotten spells. He would often perform impromptu magic shows for customers, effortlessly switching between levitating objects, disappearing acts, and card tricks. The climax of these shows would always see him pulling a rabbit out of an ostensibly empty hat, leaving the audience in stunned silence before they would invariably break into applause.\"]\n",
    "\n",
    "text_6 = [\"The tech start-up, nestled in a nondescript office park, was not much to look at from the outside. Yet, the team of engineers and designers inside were on the cutting edge of innovation, consistently pulling rabbits out of hats with their groundbreaking designs. Their latest product was a revolutionary smartwatch that boasted capabilities far beyond any existing model. During product launches, the CEO, a charismatic figure, would take to the stage and unveil the new device. As he demonstrated its features, like holographic displays and energy-efficient bio-sensors, the audience would watch in awe. As the presentation came to a close, showcasing a surprising feature - a mini drone that could detach from the watch and fly around for short distances - the crowd would invariably break into applause.\"]"
   ]
  },
  {
   "cell_type": "code",
   "execution_count": 21,
   "metadata": {},
   "outputs": [
    {
     "name": "stderr",
     "output_type": "stream",
     "text": [
      "Some weights of the model checkpoint at bert-base-multilingual-cased were not used when initializing BertModel: ['cls.predictions.transform.dense.weight', 'cls.seq_relationship.weight', 'cls.predictions.transform.dense.bias', 'cls.predictions.transform.LayerNorm.bias', 'cls.seq_relationship.bias', 'cls.predictions.transform.LayerNorm.weight', 'cls.predictions.bias']\n",
      "- This IS expected if you are initializing BertModel from the checkpoint of a model trained on another task or with another architecture (e.g. initializing a BertForSequenceClassification model from a BertForPreTraining model).\n",
      "- This IS NOT expected if you are initializing BertModel from the checkpoint of a model that you expect to be exactly identical (initializing a BertForSequenceClassification model from a BertForSequenceClassification model).\n",
      "Some weights of the model checkpoint at bert-base-multilingual-cased were not used when initializing BertModel: ['cls.predictions.transform.dense.weight', 'cls.seq_relationship.weight', 'cls.predictions.transform.dense.bias', 'cls.predictions.transform.LayerNorm.bias', 'cls.seq_relationship.bias', 'cls.predictions.transform.LayerNorm.weight', 'cls.predictions.bias']\n",
      "- This IS expected if you are initializing BertModel from the checkpoint of a model trained on another task or with another architecture (e.g. initializing a BertForSequenceClassification model from a BertForPreTraining model).\n",
      "- This IS NOT expected if you are initializing BertModel from the checkpoint of a model that you expect to be exactly identical (initializing a BertForSequenceClassification model from a BertForSequenceClassification model).\n"
     ]
    }
   ],
   "source": [
    "context_5 = [compute_output(t, layer, head) for t in text_5]\n",
    "\n",
    "context_6 = [compute_output(t, layer, head) for t in text_6]"
   ]
  },
  {
   "cell_type": "code",
   "execution_count": 22,
   "metadata": {},
   "outputs": [
    {
     "name": "stdout",
     "output_type": "stream",
     "text": [
      "Tokens of the sub-collection: ['pull', '##ing', 'ra', '##bbit', '##s', 'out', 'of', 'hat', '##s']\n",
      "Distance matrix: (9, 9)\n",
      "Distance matrix: [[0.         4.45016822 4.66362449 4.56468019 5.30806533 5.0280416\n",
      "  4.41924427 4.7253903  4.95704685]\n",
      " [4.45016822 0.         3.08331047 2.84824546 4.83688716 4.89551908\n",
      "  4.56034818 4.42374422 3.82583991]\n",
      " [4.66362449 3.08331047 0.         3.47744666 4.46280229 5.0723512\n",
      "  4.62835351 4.01947354 4.46320259]\n",
      " [4.56468019 2.84824546 3.47744666 0.         4.28322682 4.73890999\n",
      "  3.9893997  4.17318621 3.38467085]\n",
      " [5.30806533 4.83688716 4.46280229 4.28322682 0.         3.6795998\n",
      "  4.42575759 4.78362279 4.79055003]\n",
      " [5.0280416  4.89551908 5.0723512  4.73890999 3.6795998  0.\n",
      "  3.55058995 5.34897588 5.41949484]\n",
      " [4.41924427 4.56034818 4.62835351 3.9893997  4.42575759 3.55058995\n",
      "  0.         3.8184589  4.48230918]\n",
      " [4.7253903  4.42374422 4.01947354 4.17318621 4.78362279 5.34897588\n",
      "  3.8184589  0.         3.95304881]\n",
      " [4.95704685 3.82583991 4.46320259 3.38467085 4.79055003 5.41949484\n",
      "  4.48230918 3.95304881 0.        ]]\n"
     ]
    },
    {
     "data": {
      "image/png": "[encoded data removed]",
      "text/plain": [
       "<Figure size 640x480 with 1 Axes>"
      ]
     },
     "metadata": {},
     "output_type": "display_data"
    },
    {
     "name": "stdout",
     "output_type": "stream",
     "text": [
      "Tokens of the sub-collection: ['pull', '##ing', 'ra', '##bbit', '##s', 'out', 'of', 'hat', '##s']\n",
      "Distance matrix: (9, 9)\n",
      "Distance matrix: [[0.         3.40524403 4.19217305 3.83085818 4.23816209 4.16611914\n",
      "  4.04003599 4.09872839 4.47131827]\n",
      " [3.40524403 0.         4.42774976 4.33639362 4.28809735 4.63120869\n",
      "  4.21512896 4.40452561 4.50876386]\n",
      " [4.19217305 4.42774976 0.         3.84063225 4.49295536 4.55922836\n",
      "  4.47464552 3.89276717 4.43546357]\n",
      " [3.83085818 4.33639362 3.84063225 0.         4.44805831 4.97011077\n",
      "  4.4209919  4.31620625 3.86312029]\n",
      " [4.23816209 4.28809735 4.49295536 4.44805831 0.         3.38507048\n",
      "  4.08862567 4.50376004 4.57266354]\n",
      " [4.16611914 4.63120869 4.55922836 4.97011077 3.38507048 0.\n",
      "  3.45032321 4.80970137 5.16540327]\n",
      " [4.04003599 4.21512896 4.47464552 4.4209919  4.08862567 3.45032321\n",
      "  0.         3.76529157 4.47955732]\n",
      " [4.09872839 4.40452561 3.89276717 4.31620625 4.50376004 4.80970137\n",
      "  3.76529157 0.         3.61218313]\n",
      " [4.47131827 4.50876386 4.43546357 3.86312029 4.57266354 5.16540327\n",
      "  4.47955732 3.61218313 0.        ]]\n"
     ]
    },
    {
     "data": {
      "image/png": "[encoded data removed]",
      "text/plain": [
       "<Figure size 640x480 with 1 Axes>"
      ]
     },
     "metadata": {},
     "output_type": "display_data"
    },
    {
     "name": "stdout",
     "output_type": "stream",
     "text": [
      "Bottleneck distance: 0.5561239778339755\n",
      "Wasserstein distance: = 2.13\n"
     ]
    }
   ],
   "source": [
    "# Compute the persistent homology\n",
    "persistent_homology_1 = compute_phrase_distances_and_homology(context_5[0], text_5[0], \"pulling rabbits out of hats\")\n",
    "persistent_homology_2 = compute_phrase_distances_and_homology(context_6[0], text_6[0], \"pulling rabbits out of hats\")\n",
    "\n",
    "# Convert the persistent homology data to a numpy array\n",
    "persistent_homology_np_1 = np.array([[pt[1][0], pt[1][1]] for pt in persistent_homology_1 if pt[1][1] != float('inf')])\n",
    "persistent_homology_np_2 = np.array([[pt[1][0], pt[1][1]] for pt in persistent_homology_2 if pt[1][1] != float('inf')])\n",
    "\n",
    "# Compute and print the bottleneck distance\n",
    "bottleneck_dist = gd.bottleneck_distance(persistent_homology_np_1, persistent_homology_np_2)\n",
    "print(f\"Bottleneck distance: {bottleneck_dist}\")\n",
    "\n",
    "# Compute and print the Wasserstein distance\n",
    "print(f\"Wasserstein distance: = {wasserstein_distance(persistent_homology_np_1, persistent_homology_np_2, order=1., internal_p=2.):.2f}\")"
   ]
  },
  {
   "cell_type": "code",
   "execution_count": 23,
   "metadata": {},
   "outputs": [
    {
     "name": "stdout",
     "output_type": "stream",
     "text": [
      "Tokens of the sub-collection: ['break', 'into', 'app', '##laus', '##e']\n",
      "Distance matrix: (5, 5)\n",
      "Distance matrix: [[0.         4.555677   4.55760529 4.50032646 4.7962645 ]\n",
      " [4.555677   0.         5.25340684 4.35527048 5.41922928]\n",
      " [4.55760529 5.25340684 0.         3.52472693 3.67159057]\n",
      " [4.50032646 4.35527048 3.52472693 0.         3.57538494]\n",
      " [4.7962645  5.41922928 3.67159057 3.57538494 0.        ]]\n"
     ]
    },
    {
     "data": {
      "image/png": "[encoded data removed]",
      "text/plain": [
       "<Figure size 640x480 with 1 Axes>"
      ]
     },
     "metadata": {},
     "output_type": "display_data"
    },
    {
     "name": "stdout",
     "output_type": "stream",
     "text": [
      "Tokens of the sub-collection: ['break', 'into', 'app', '##laus', '##e']\n",
      "Distance matrix: (5, 5)\n",
      "Distance matrix: [[0.         4.30591353 4.74428765 4.48676536 4.7083932 ]\n",
      " [4.30591353 0.         4.94577351 4.06694371 5.11616456]\n",
      " [4.74428765 4.94577351 0.         3.48062603 3.84981375]\n",
      " [4.48676536 4.06694371 3.48062603 0.         3.5713956 ]\n",
      " [4.7083932  5.11616456 3.84981375 3.5713956  0.        ]]\n"
     ]
    },
    {
     "data": {
      "image/png": "[encoded data removed]",
      "text/plain": [
       "<Figure size 640x480 with 1 Axes>"
      ]
     },
     "metadata": {},
     "output_type": "display_data"
    },
    {
     "name": "stdout",
     "output_type": "stream",
     "text": [
      "Bottleneck distance: 0.2883267701909231\n",
      "Wasserstein distance: = 0.53\n"
     ]
    }
   ],
   "source": [
    "# Compute the persistent homology\n",
    "persistent_homology_1 = compute_phrase_distances_and_homology(context_5[0], text_5[0], \"break into applause\")\n",
    "persistent_homology_2 = compute_phrase_distances_and_homology(context_6[0], text_6[0], \"break into applause\")\n",
    "\n",
    "# Convert the persistent homology data to a numpy array\n",
    "persistent_homology_np_1 = np.array([[pt[1][0], pt[1][1]] for pt in persistent_homology_1 if pt[1][1] != float('inf')])\n",
    "persistent_homology_np_2 = np.array([[pt[1][0], pt[1][1]] for pt in persistent_homology_2 if pt[1][1] != float('inf')])\n",
    "\n",
    "# Compute and print the bottleneck distance\n",
    "bottleneck_dist = gd.bottleneck_distance(persistent_homology_np_1, persistent_homology_np_2)\n",
    "print(f\"Bottleneck distance: {bottleneck_dist}\")\n",
    "\n",
    "# Compute and print the Wasserstein distance\n",
    "print(f\"Wasserstein distance: = {wasserstein_distance(persistent_homology_np_1, persistent_homology_np_2, order=1., internal_p=2.):.2f}\")"
   ]
  },
  {
   "cell_type": "code",
   "execution_count": null,
   "metadata": {},
   "outputs": [],
   "source": []
  }
 ],
 "metadata": {
  "kernelspec": {
   "display_name": "env_1",
   "language": "python",
   "name": "python3"
  },
  "language_info": {
   "codemirror_mode": {
    "name": "ipython",
    "version": 3
   },
   "file_extension": ".py",
   "mimetype": "text/x-python",
   "name": "python",
   "nbconvert_exporter": "python",
   "pygments_lexer": "ipython3",
   "version": "3.10.11"
  },
  "orig_nbformat": 4
 },
 "nbformat": 4,
 "nbformat_minor": 2
}
